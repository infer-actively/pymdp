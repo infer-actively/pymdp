{
 "cells": [
  {
   "cell_type": "markdown",
   "metadata": {},
   "source": [
    "# T-Maze Task\n",
    "\n",
    "In this notebook, we simulate a T-Maze task (or three-arm bandit task) using an active inference (AIF) agent with the `jax-pymdp` library. Built on JAX, `jax-pymdp` enhances the original [`pymdp` package](https://pymdp-rtd.readthedocs.io/en/latest/) by enabling faster computations and parallel simulations of multiple agents.\n",
    "\n",
    "<details>\n",
    "<summary> Click here to see the description of the T-maze task. </summary>\n",
    "\n",
    "The T-Maze task (generative process) and the agent's generative model we implement in this notebook is adapted from [the sophisticated inference paper](https://discovery.ucl.ac.uk/id/eprint/10124606/). This task represents a classic problem in spatial navigation, learning, and decision-making, where an agent (in this case, a rat) must navigate a T-shaped maze. The agent starts at the centre of the T-maze. Within either the left or right arm, there is either a preferred (i.e., rewarding; cheese) stimulus or an aversive (i.e., punishing; shock) stimulus, with their locations initially unknown to the agent. In the bottom arm, an instructional cue provides information about the location of the rewarding stimulus.\n",
    "\n",
    "To solve the maze and locate the reward, the agent must decide whether to commit to one of the potentially rewarding arms or first seek information from the cue to identify the more profitable option before taking action. Cue validity represents the probability that the cue correctly indicates the reward's location. An optimal agent should learn to exploit the cue when it is valid and explore the arms when it is not. \n",
    "</details>\n",
    "\n",
    "<details>\n",
    "<summary> Click here to see the setup requirements. </summary>\n",
    "To run this notebook, it is recommended to set up and use a virtual environment. You can refer to <a href=\"https://packaging.python.org/en/latest/guides/installing-using-pip-and-virtual-environments/\">this guide</a> to set up a virtual environment.\n",
    "\n",
    "Then, install the current repo (v.1.0.0_alpha), which contains the `jax-pymdp` package, as a package in editable mode by running the following command in your terminal:\n",
    "```bash\n",
    "pip install -e .\n",
    "```\n",
    "Note: While `jax` and `jaxlib` are included as dependencies when you install the current repo, it is strongly recommended to manually install JAX tailored to your system (e.g., for GPU support). Follow the <a href=\"https://jax.readthedocs.io/en/latest/installation.html\">JAX installation guide</a> to ensure compatibility with your hardware.\n",
    "</details>\n",
    "\n",
    "### In this notebook, we will create the following simulations: \n",
    "1. A deterministic generative process (environment), and a single agent solving the task with vanilla active inference.\n",
    "2. A noisy generative process, and a single agent solving the task with vanilla active inference.\n",
    "3. A noisy generative model with A and B learning, with correct prior structure of those parameters, and a single agent solving the task with vanilla active inference.\n",
    "- A learning only\n",
    "- B learning only\n",
    "- A and B learning\n",
    "4. A noisy generative model with A and B learning, with incorrect prior structure of those parameters, and a single agent solving the task with vanilla active inference.\n",
    "- A learning only\n",
    "- B learning only\n",
    "- A and B learning\n",
    "5. A deterministic generative process, and a single agent solving the task with sophisticated inference\n",
    "6. A deterministic generative process, and a single agent solving the task with inductive inference\n",
    "7. A deterministic generative process, and multiple agents solving the task with vanilla active inference\n",
    "8. A deterministic generative process, and multiple agents solving the task with sophisticated inference\n"
   ]
  },
  {
   "cell_type": "code",
   "execution_count": 1,
   "metadata": {},
   "outputs": [],
   "source": [
    "# a way to edit and run code and see the effects in the notebook without having to restart the kernel\n",
    "%load_ext autoreload\n",
    "%autoreload 2\n",
    "\n",
    "# importing necessary libraries\n",
    "import jax.numpy as jnp\n",
    "import matplotlib.pyplot as plt\n",
    "import numpy as np\n",
    "import mediapy\n",
    "\n",
    "from jax import random as jr\n",
    "from pymdp.envs import TMaze, rollout\n",
    "from pymdp.agent import Agent\n",
    "from PIL import Image"
   ]
  },
  {
   "cell_type": "markdown",
   "metadata": {},
   "source": [
    "### Creating the T-Maze Task (Generative Process)\n",
    "\n",
    "- The `batch_size` parameter specifies the number of environments to run in parallel.\n",
    "- The `reward_condition` parameter determines the reward location: `0` for the left arm, `1` for the right arm, or `None` for random allocation.\n",
    "- The `reward_probability` parameter sets the chance of receiving a reward in the correct arm. For example, if set at 0.80, there would be an 80% chance of reward and 20% chance of no outcome in the rewarding arm.\n",
    "- The `punishment_probability` parameter specifies the likelihood of punishment in the other arm. For example, if set at 0.80, there would be an 80% chance of punishment and 20% chance of no outcome in the non-rewarding arm.\n",
    "- The `cue_validity` parameter represents the accuracy of the cues as a probability between 0 and 1.\n",
    "\n",
    "<details>\n",
    "<summary> Click here to see how the generative process is set up. </summary>\n",
    "\n",
    "#### States and Observations\n",
    "\n",
    "**State Factors:**\n",
    "1. Location (5 states):\n",
    "    - 0: centre (start location)\n",
    "    - 1: left arm\n",
    "    - 2: right arm\n",
    "    - 3: cue location (bottom arm)\n",
    "    - 4: middle of arms (between left and right arm)\n",
    "2. Reward Location (2 states):\n",
    "    - 0: reward in left arm \n",
    "    - 1: reward in right arm\n",
    "\n",
    "**Observation Modalities:**\n",
    "1. Location (5 observations):\n",
    "    - Matches the location states exactly\n",
    "2. Outcome (3 observations):\n",
    "    - 0: no outcome\n",
    "    - 1: reward (cheese)\n",
    "    - 2: punishment (shock)\n",
    "3. Cue (3 observations):\n",
    "    - 0: no cue\n",
    "    - 1: left arm cued\n",
    "    - 2: right arm cued\n",
    "\n",
    "#### Environment Parameters\n",
    "\n",
    "**Observation Likelihood Model (A):**\n",
    "- A[0]: Location observations (5x5x1 tensor)\n",
    "  - Perfect mapping between true and observed location.\n",
    "- A[1]: Outcome observations (3x5x2 tensor)\n",
    "  - In the more rewarding arm, reward is presented with a likelihood determined by the `reward_probability` parameter.\n",
    "  - In the less rewarding arm, punishment is presented with a likelihood determined by the `punishment_probability` parameter.\n",
    "  - No outcomes are observed in the centre/start location, cue location, or middle of the arms.\n",
    "- A[2]: Cue observations (3x5x2 tensor)\n",
    "  - Indicating the reward location, at the cue location (bottom arm), with accuracy set by the `cue_validity` parameter.\n",
    "  - No cues visible elsewhere.\n",
    "\n",
    "**Transition Model (B):**\n",
    "- B[0]: Location transitions (5x5x5 tensor)\n",
    "  - Agent can move between adjacent maze cells or stay in the same cell.\n",
    "- B[1]: Reward location (2x2x1 tensor)\n",
    "  - Reward location remains fixed throughout trial.\n",
    "\n",
    "**Initial Conditions (D):**\n",
    "- D[0]: Starting location (5x1 tensor)\n",
    "  - Agent always begins in centre location\n",
    "- D[1]: Reward placement (2x1 tensor)\n",
    "  - Default: Equal chance (50/50) of reward in either arm (`reward_condition=None`)\n",
    "  - Optional: Can fix reward to specific arm, by setting `reward_condition` to `0` (for left arm) or `1` (for right arm)\n",
    "\n",
    "</details>\n",
    "\n"
   ]
  },
  {
   "cell_type": "code",
   "execution_count": 2,
   "metadata": {},
   "outputs": [],
   "source": [
    "# setting the parameters for the environment\n",
    "batch_size = 1 # number of environments to run in parallel\n",
    "reward_condition = None # 0 is reward in left arm, 1 is reward in right arm, None is random allocation\n",
    "reward_probability = 1.0 # 100% chance of reward in the correct arm\n",
    "punishment_probability = 1.0 # 100% chance of punishment in the other arm\n",
    "cue_validity = 1.0 # 100% valid cues\n",
    "\n",
    "# initialising the environment. see tmaze.py in pymdp/envs for the implementation details.\n",
    "env = TMaze( \n",
    "    batch_size=batch_size, \n",
    "    reward_probability=reward_probability,     \n",
    "    punishment_probability=punishment_probability, \n",
    "    cue_validity=cue_validity,          \n",
    "    reward_condition=reward_condition   \n",
    ")\n",
    "\n",
    "# you may print the environment parameters to see the shapes of the tensors and the values by editing and uncommenting the following lines and running the code: \n",
    "\n",
    "# print([a.shape for a in env.params[\"A\"]]) # shape of all A tensors; the shape should start with the batch_size, then the rows, columns, and additional dimensions for the dependencies\n",
    "# print(env.params[\"A\"][1][0][:,:,1]) # likelihood of observing no outcome, reward, or punishment (rows), in each location (columns), when the reward condition is 1 (right arm)\n",
    "# print(env.params[\"A\"][2][0][:,:,0]) # likelihood of observing no cue, left arm cued, or right arm cued (rows), in each location (columns), when the reward condition is 0 (left arm)\n",
    "\n",
    "# print([b.shape for b in env.params[\"B\"]]) # shape of all B tensors\n",
    "# print(env.params[\"B\"][0][0][:,:,4]) # probability of transitioning to each location (rows), from each location (columns), when the agent wants to move to the middle of the arms (location 4)"
   ]
  },
  {
   "cell_type": "markdown",
   "metadata": {},
   "source": [
    "# 1. A deterministic generative process (environment), and a single agent solving the task with vanilla active inference.\n",
    "\n",
    "### Creating the Agent (Generative Model)\n",
    "\n",
    "We will create the agent's generative model based off the A and B tensors of the environment. The A and B tensors remain the same as, in this simple design, we assume the agent has knowledge of the environment's parameters - i.e., it knows that the likelihood of observing a reward in the left arm is 1.0 if the reward is actually in the left arm (`reward_condition=0`), and it knows the cues are 100% accurate (`cue_validity=1.0`), and it knows that the reward location will be fixed throughout the trial (not volatile environment). We can of course change these assumptions to create a more complex agent, and we will do that in the next sections where the environment will be more stochastic and we will also add noise to the agent's generative model.\n",
    "\n",
    "The preference tensors (C) are set using the A tensor's shape. The agent is set to not have any preference to observe certain locations and cues. The agent is set to prefer reward and avoid punishment.\n",
    "\n",
    "The initial beliefs tensors (D; i.e., priors) are set using the B tensor's shape. The agent has a prior to  start in the centre location and the reward location is uniformly distributed.  "
   ]
  },
  {
   "cell_type": "code",
   "execution_count": 3,
   "metadata": {},
   "outputs": [],
   "source": [
    "#  setting A tensors from the environment parameters\n",
    "A = [jnp.array(a, dtype=jnp.float32) for a in env.params[\"A\"]]\n",
    "A_dependencies = env.dependencies[\"A\"] # dependencies allow you to specify the state factors the observation modality depends on so you dont have to compute the full tensor using all state factors\n",
    "\n",
    "# setting B tensors from the environment parameters\n",
    "B = [jnp.array(b, dtype=jnp.float32) for b in env.params[\"B\"]]\n",
    "B_dependencies = env.dependencies[\"B\"]\n",
    "\n",
    "# creating C tensors filled with zeros for [location], [reward], [cue] based on A shapes\n",
    "C = [jnp.zeros((batch_size, a.shape[1]), dtype=jnp.float32) for a in A] \n",
    "# setting preferences for outcomes only\n",
    "C[1] = C[1].at[:,1].set(2.0)    # prefer reward\n",
    "C[1] = C[1].at[:,2].set(-3.0)   # avoid punishment\n",
    "\n",
    "\n",
    "# creating D tensors [location], [reward] based on B shapes\n",
    "D = []\n",
    "# D[0]: location - all zeros except location 0 (centre) because the agent always starts in the centre\n",
    "D_loc = jnp.zeros((batch_size, B[0].shape[1]), dtype=jnp.float32) \n",
    "D_loc = D_loc.at[0,0].set(1.0)  # set centre location to 1.0\n",
    "D.append(D_loc)\n",
    "\n",
    "# D[1]: reward location - uniform distribution\n",
    "D_reward = jnp.ones((batch_size, B[1].shape[1]), dtype=jnp.float32) \n",
    "D_reward = D_reward / jnp.sum(D_reward, axis=1, keepdims=True)  # normalise to get uniform distribution\n",
    "D.append(D_reward)\n",
    "\n",
    "\n",
    "# initialising the agent\n",
    "agent = Agent(\n",
    "    A, B, C, D, \n",
    "    policy_len=5, # how long the action sequence is that the agent is evaluating\n",
    "    A_dependencies=A_dependencies, \n",
    "    B_dependencies=B_dependencies,\n",
    "    apply_batch=False,\n",
    "    learn_A=False,\n",
    "    learn_B=False\n",
    ")\n",
    "\n",
    "# you may print the agent's generative model parameters to see the shapes of the tensors and the values by editing and uncommenting the following lines and running the code: \n",
    "\n",
    "# print([a.shape for a in agent.A]) # shape of all A tensors\n",
    "# print(agent.A[1][0][:,:,1]) # likelihood of observing no outcome, reward, or punishment (rows), in each location (columns), when the reward condition is 1 (right arm)\n",
    "# print(agent.C[1]) # preferences for outcomes"
   ]
  },
  {
   "cell_type": "code",
   "execution_count": 4,
   "metadata": {},
   "outputs": [],
   "source": [
    "key = jr.PRNGKey(0) # random key for the aif loop\n",
    "T = 10 # number of timesteps to rollout the aif loop for\n",
    "_, info, _ = rollout(agent, env, num_timesteps=T, rng_key=key) # running the aif loop\n",
    "\n",
    "# you may print the info dictionary to see the numerical results of the aif agent completing the T-maze task by editing and uncommenting the following lines and running the code: \n",
    "\n",
    "# print(info.keys()) # keys in the info dictionary\n",
    "# print(info[\"action\"][:,0,:]) # actions taken by the agent (locations throughout the maze) \n",
    "# print(info[\"observation\"][0]) # observations of the locations for each batch\n",
    "# print(info[\"observation\"][2]) # observations of the cues for each batch\n",
    "# print(jnp.around(info[\"qs\"][1], decimals=2)) # posterior beliefs about the reward location\n",
    "# print(info[\"qpi\"][0].shape) # shape of the policy tensor\n"
   ]
  },
  {
   "cell_type": "markdown",
   "metadata": {},
   "source": [
    "#### Rendering the Task to Visualise the Agent's Behaviour"
   ]
  },
  {
   "cell_type": "code",
   "execution_count": 5,
   "metadata": {},
   "outputs": [
    {
     "data": {
      "text/html": [
       "<table class=\"show_videos\" style=\"border-spacing:0px;\"><tr><td style=\"padding:1px;\"><video controls width=\"600\" height=\"600\" style=\"object-fit:cover;\" loop autoplay muted>\n",
       "      <source src=\"data:video/mp4;base64,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\" type=\"video/mp4\"/>\n",
       "      This browser does not support the video tag.\n",
       "      </video></td></tr></table>"
      ],
      "text/plain": [
       "<IPython.core.display.HTML object>"
      ]
     },
     "metadata": {},
     "output_type": "display_data"
    }
   ],
   "source": [
    "frames = []\n",
    "for t in range(info[\"observation\"][0].shape[0]):  # iterate over timesteps\n",
    "    # get observations for this timestep\n",
    "    observations_t = [\n",
    "        info[\"observation\"][0][t, :, :],\n",
    "        info[\"observation\"][1][t, :, :],  \n",
    "        info[\"observation\"][2][t, :, :]   \n",
    "    ]\n",
    "       \n",
    "    frame = env.render(mode=\"rgb_array\", observations=observations_t) # render the environment using the observations for this timestep\n",
    "    frame = np.asarray(frame, dtype=np.uint8)\n",
    "    plt.close()  # close the figure to prevent memory leak\n",
    "    frames.append(frame)\n",
    "\n",
    "frames = np.array(frames, dtype=np.uint8)\n",
    "mediapy.show_video(frames, fps=1)\n",
    "\n",
    "# uncomment the following lines to save the video as a gif\n",
    "# pil_frames = [Image.fromarray(frame) for frame in frames]\n",
    "# reward_location = \"random\" if reward_condition is None else (\"left\" if reward_condition == 0 else \"right\")\n",
    "# filename = f\"tmaze_{batch_size}_{reward_location}.gif\"\n",
    "# pil_frames[0].save(\n",
    "#     filename,\n",
    "#     save_all=True,\n",
    "#     append_images=pil_frames[1:],\n",
    "#     duration=1000,  # 1000ms per frame\n",
    "#     loop=0\n",
    "# )"
   ]
  },
  {
   "cell_type": "markdown",
   "metadata": {},
   "source": [
    "# 2. A noisy generative process, and a single agent solving the task with vanilla active inference."
   ]
  },
  {
   "cell_type": "code",
   "execution_count": 6,
   "metadata": {},
   "outputs": [],
   "source": [
    "# THE GENERATIVE PROCESS (NOISY)\n",
    "# setting the parameters for the environment\n",
    "batch_size = 4 # number of environments to run in parallel\n",
    "reward_condition = None # 0 is reward in left arm, 1 is reward in right arm, None is random allocation\n",
    "reward_probability = 0.7 # 70% chance of reward in the correct arm\n",
    "punishment_probability = 0.6 # 60% chance of punishment in the other arm\n",
    "cue_validity = 0.9 # 90% valid cues\n",
    "\n",
    "# initialising the environment. see tmaze.py in pymdp/envs for the implementation details.\n",
    "env = TMaze( \n",
    "    batch_size=batch_size, \n",
    "    reward_probability=reward_probability,     \n",
    "    punishment_probability=punishment_probability, \n",
    "    cue_validity=cue_validity,          \n",
    "    reward_condition=reward_condition   \n",
    ")\n"
   ]
  },
  {
   "cell_type": "code",
   "execution_count": 7,
   "metadata": {},
   "outputs": [],
   "source": [
    "# THE GENERATIVE MODEL\n",
    "#  setting A tensors from the environment parameters\n",
    "A = [jnp.array(a, dtype=jnp.float32) for a in env.params[\"A\"]]\n",
    "A_dependencies = env.dependencies[\"A\"] # dependencies allow you to specify the state factors the observation modality depends on so you dont have to compute the full tensor using all state factors\n",
    "\n",
    "# setting B tensors from the environment parameters\n",
    "B = [jnp.array(b, dtype=jnp.float32) for b in env.params[\"B\"]]\n",
    "B_dependencies = env.dependencies[\"B\"]\n",
    "\n",
    "# creating C tensors filled with zeros for [location], [reward], [cue] based on A shapes\n",
    "C = [jnp.zeros((batch_size, a.shape[1]), dtype=jnp.float32) for a in A] \n",
    "# setting preferences for outcomes only\n",
    "C[1] = C[1].at[:,1].set(2.0)    # prefer reward\n",
    "C[1] = C[1].at[:,2].set(-3.0)   # avoid punishment\n",
    "\n",
    "\n",
    "# creating D tensors [location], [reward] based on B shapes\n",
    "D = []\n",
    "# D[0]: location - all zeros except location 0 (centre) because the agent always starts in the centre\n",
    "D_loc = jnp.zeros((batch_size, B[0].shape[1]), dtype=jnp.float32) \n",
    "D_loc = D_loc.at[0,0].set(1.0)  # set centre location to 1.0\n",
    "D.append(D_loc)\n",
    "\n",
    "# D[1]: reward location - uniform distribution\n",
    "D_reward = jnp.ones((batch_size, B[1].shape[1]), dtype=jnp.float32) \n",
    "D_reward = D_reward / jnp.sum(D_reward, axis=1, keepdims=True)  # normalise to get uniform distribution\n",
    "D.append(D_reward)\n",
    "\n",
    "\n",
    "# initialising the agent\n",
    "agent = Agent(\n",
    "    A, B, C, D, \n",
    "    policy_len=5, # how long the action sequence is that the agent is evaluating\n",
    "    A_dependencies=A_dependencies, \n",
    "    B_dependencies=B_dependencies,\n",
    "    apply_batch=False,\n",
    "    learn_A=False,\n",
    "    learn_B=False\n",
    ")\n",
    "\n",
    "key = jr.PRNGKey(0) # random key for the aif loop\n",
    "T = 10 # number of timesteps to rollout the aif loop for\n",
    "_, info, _ = rollout(agent, env, num_timesteps=T, rng_key=key) # running the aif loop\n"
   ]
  },
  {
   "cell_type": "code",
   "execution_count": 8,
   "metadata": {},
   "outputs": [
    {
     "data": {
      "text/html": [
       "<table class=\"show_videos\" style=\"border-spacing:0px;\"><tr><td style=\"padding:1px;\"><video controls width=\"600\" height=\"600\" style=\"object-fit:cover;\" loop autoplay muted>\n",
       "      <source src=\"data:video/mp4;base64,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\" type=\"video/mp4\"/>\n",
       "      This browser does not support the video tag.\n",
       "      </video></td></tr></table>"
      ],
      "text/plain": [
       "<IPython.core.display.HTML object>"
      ]
     },
     "metadata": {},
     "output_type": "display_data"
    }
   ],
   "source": [
    "frames = []\n",
    "for t in range(info[\"observation\"][0].shape[0]):  # iterate over timesteps\n",
    "    # get observations for this timestep\n",
    "    observations_t = [\n",
    "        info[\"observation\"][0][t, :, :],\n",
    "        info[\"observation\"][1][t, :, :],  \n",
    "        info[\"observation\"][2][t, :, :]   \n",
    "    ]\n",
    "       \n",
    "    frame = env.render(mode=\"rgb_array\", observations=observations_t) # render the environment using the observations for this timestep\n",
    "    frame = np.asarray(frame, dtype=np.uint8)\n",
    "    plt.close()  # close the figure to prevent memory leak\n",
    "    frames.append(frame)\n",
    "\n",
    "frames = np.array(frames, dtype=np.uint8)\n",
    "mediapy.show_video(frames, fps=1)"
   ]
  },
  {
   "cell_type": "markdown",
   "metadata": {},
   "source": [
    "# A and B learning\n",
    "\n",
    "### loading the generative process (environment)"
   ]
  },
  {
   "cell_type": "code",
   "execution_count": 9,
   "metadata": {},
   "outputs": [],
   "source": [
    "# setting the parameters for the environment\n",
    "batch_size = 1 # number of environments to run in parallel\n",
    "reward_condition = 1 # 0 is reward in left arm, 1 is reward in right arm, None is random allocation\n",
    "reward_probability = 1.0 # 100% chance of reward in the correct arm\n",
    "punishment_probability = 1.0 # 100% chance of punishment in the other arm\n",
    "cue_validity = 1.0 # 100% valid cues\n",
    "\n",
    "# initialising the environment. see tmaze.py in pymdp/envs for the implementation details.\n",
    "env = TMaze( \n",
    "    batch_size=batch_size, \n",
    "    reward_probability=reward_probability,     \n",
    "    punishment_probability=punishment_probability, \n",
    "    cue_validity=cue_validity,          \n",
    "    reward_condition=reward_condition   \n",
    ")"
   ]
  },
  {
   "cell_type": "markdown",
   "metadata": {},
   "source": [
    "### the agent's generative model"
   ]
  },
  {
   "cell_type": "code",
   "execution_count": 10,
   "metadata": {},
   "outputs": [],
   "source": [
    "#  setting A tensors from the environment parameters\n",
    "A = [jnp.array(a, dtype=jnp.float32) for a in env.params[\"A\"]]\n",
    "A_dependencies = env.dependencies[\"A\"] \n",
    "\n",
    "# adding noise to flatten the distributions (make more uncertain) \n",
    "noise_level = 0.3 \n",
    "for i in [1, 2]:  # only modifying the outcome (i=1) and cue (i=2) observation likelihood mappings\n",
    "    # A[i] = jnp.flip(A[i], axis=1) # flipping for testing purposes\n",
    "\n",
    "    noise = noise_level * jnp.ones_like(A[i])\n",
    "    A[i] = A[i] + noise\n",
    "    A[i] = A[i] / jnp.sum(A[i], axis=1, keepdims=True) # normalise to ensure each distribution sums to 1\n",
    "\n",
    "pA = A\n",
    "\n",
    "# setting B tensors from the environment parameters\n",
    "B = [jnp.array(b, dtype=jnp.float32) for b in env.params[\"B\"]]\n",
    "B_dependencies = env.dependencies[\"B\"]\n",
    "\n",
    "# B[0] = jnp.flip(B[0], axis=(1,2)) # flipping for testing purposes\n",
    "\n",
    "# adding noise to flatten the distributions (make more uncertain) \n",
    "key, subkey = jr.split(key)\n",
    "noise = noise_level * jr.uniform(subkey, shape=B[0].shape)\n",
    "B[0] = B[0] + noise\n",
    "B[0] = B[0] / jnp.sum(B[0], axis=1, keepdims=True) # normalise to ensure each distribution sums to 1\n",
    "\n",
    "key, subkey = jr.split(key)\n",
    "noise = noise_level * jr.uniform(subkey, shape=B[1].shape)\n",
    "# B[1] = jnp.flip(B[1], axis=(1,2)) # flipping for testing purposes\n",
    "B[1] = B[1] + noise\n",
    "B[1] = B[1] / jnp.sum(B[1], axis=1, keepdims=True) # normalise to ensure each distribution sums to 1\n",
    "\n",
    "pB = B\n",
    "\n",
    "# creating C tensors filled with zeros for [location], [reward], [cue] based on A shapes\n",
    "C = [jnp.zeros((batch_size, a.shape[1]), dtype=jnp.float32) for a in A] \n",
    "# setting preferences for outcomes only\n",
    "C[1] = C[1].at[:,1].set(2.0)    # prefer reward\n",
    "C[1] = C[1].at[:,2].set(-3.0)   # avoid punishment\n",
    "\n",
    "\n",
    "# creating D tensors [location], [reward] based on B shapes\n",
    "D = []\n",
    "# D[0]: location - all zeros except location 0 (centre) because the agent always starts in the centre\n",
    "D_loc = jnp.zeros((batch_size, B[0].shape[1]), dtype=jnp.float32) \n",
    "D_loc = D_loc.at[0,0].set(1.0)  # set centre location to 1.0\n",
    "D.append(D_loc)\n",
    "\n",
    "# D[1]: reward location - uniform distribution\n",
    "D_reward = jnp.ones((batch_size, B[1].shape[1]), dtype=jnp.float32) \n",
    "D_reward = D_reward / jnp.sum(D_reward, axis=1, keepdims=True)  # normalise to get uniform distribution\n",
    "D.append(D_reward)\n",
    "\n",
    "\n",
    "# initialising the agent\n",
    "agent = Agent(\n",
    "    A, B, C, D, \n",
    "    pA=pA,\n",
    "    pB=pB, # adding the noisy A tensor for learning\n",
    "    policy_len=5, # how long the action sequence is that the agent is evaluating\n",
    "    A_dependencies=A_dependencies, \n",
    "    B_dependencies=B_dependencies,\n",
    "    apply_batch=False, \n",
    "    learn_A=True,\n",
    "    learn_B=True,\n",
    "    gamma=0.1,\n",
    "    action_selection=\"stochastic\"\n",
    ")"
   ]
  },
  {
   "cell_type": "code",
   "execution_count": 11,
   "metadata": {},
   "outputs": [],
   "source": [
    "key = jr.PRNGKey(0) # random key for the aif loop\n",
    "T = 10 # number of timesteps to rollout the aif loop for\n",
    "_, info, _ = rollout(agent, env, num_timesteps=T, rng_key=key) # running the aif loop"
   ]
  },
  {
   "cell_type": "code",
   "execution_count": null,
   "metadata": {},
   "outputs": [],
   "source": []
  },
  {
   "cell_type": "code",
   "execution_count": 12,
   "metadata": {},
   "outputs": [
    {
     "name": "stdout",
     "output_type": "stream",
     "text": [
      "at t=0\n",
      "[[0.55928385 0.03319283 0.0423363  0.14858027 0.00967858]\n",
      " [0.12059184 0.82310116 0.11142875 0.04356447 0.80422693]\n",
      " [0.05870756 0.01633091 0.81928074 0.07423069 0.05903195]\n",
      " [0.14976892 0.07099813 0.02205921 0.72776103 0.12234119]\n",
      " [0.11164781 0.05637698 0.00489496 0.00586354 0.00472126]]\n",
      "\n",
      "[[0.812142   0.1745717 ]\n",
      " [0.18785803 0.8254283 ]]\n"
     ]
    }
   ],
   "source": [
    "print(\"at t=0\")\n",
    "print(info[\"agent\"].B[0][0,0,:,:,1])\n",
    "print()\n",
    "print(info[\"agent\"].B[1][0,0,:,:,1])\n",
    "\n"
   ]
  },
  {
   "cell_type": "code",
   "execution_count": 13,
   "metadata": {},
   "outputs": [
    {
     "name": "stdout",
     "output_type": "stream",
     "text": [
      "at t=10\n",
      "[[0.7796419  0.03319283 0.0423363  0.14858027 0.00483929]\n",
      " [0.06029592 0.82310116 0.11142875 0.04356447 0.9021135 ]\n",
      " [0.02935378 0.01633091 0.81928074 0.07423069 0.02951598]\n",
      " [0.07488446 0.07099813 0.02205921 0.72776103 0.0611706 ]\n",
      " [0.0558239  0.05637698 0.00489496 0.00586354 0.00236063]]\n",
      "\n",
      "[[0.47945264 0.36392748]\n",
      " [0.5205474  0.63607246]]\n"
     ]
    }
   ],
   "source": [
    "print(\"at t=10\")\n",
    "print(info[\"agent\"].B[0][-1,0,:,:,1])\n",
    "print()\n",
    "print(info[\"agent\"].B[1][-1,0,:,:,1])\n"
   ]
  },
  {
   "cell_type": "code",
   "execution_count": 14,
   "metadata": {},
   "outputs": [
    {
     "name": "stdout",
     "output_type": "stream",
     "text": [
      "the environment's A tensor\n",
      "[[1. 0. 0. 1. 1.]\n",
      " [0. 0. 1. 0. 0.]\n",
      " [0. 1. 0. 0. 0.]]\n",
      "[[1. 1. 1. 0. 1.]\n",
      " [0. 0. 0. 0. 0.]\n",
      " [0. 0. 0. 1. 0.]]\n"
     ]
    }
   ],
   "source": [
    "print(\"the environment's A tensor\")\n",
    "print(env.params[\"A\"][1][0][:,:,1])\n",
    "print(env.params[\"A\"][2][0][:,:,1])"
   ]
  },
  {
   "cell_type": "code",
   "execution_count": 15,
   "metadata": {},
   "outputs": [
    {
     "name": "stdout",
     "output_type": "stream",
     "text": [
      "at t=0\n",
      "[[0.68421054 0.15789475 0.15789476 0.68421054 0.68421054]\n",
      " [0.15789476 0.15789475 0.68421054 0.15789476 0.15789476]\n",
      " [0.15789476 0.68421054 0.15789476 0.15789476 0.15789476]]\n",
      "\n",
      "[[0.68421054 0.68421054 0.68421054 0.15789475 0.68421054]\n",
      " [0.15789476 0.15789476 0.15789476 0.15789475 0.15789476]\n",
      " [0.15789476 0.15789476 0.15789476 0.68421054 0.15789476]]\n"
     ]
    }
   ],
   "source": [
    "print(\"at t=0\")\n",
    "print(agent.A[1][0][:,:,1])\n",
    "print()\n",
    "print(agent.A[2][0][:,:,1])\n",
    "\n"
   ]
  },
  {
   "cell_type": "code",
   "execution_count": 16,
   "metadata": {},
   "outputs": [
    {
     "name": "stdout",
     "output_type": "stream",
     "text": [
      "at t=10\n",
      "[[0.8974463  0.08694159 0.08543371 0.68421054 0.9030858 ]\n",
      " [0.05127685 0.08694159 0.8291326  0.15789476 0.04845705]\n",
      " [0.05127685 0.8261168  0.08543371 0.15789476 0.04845705]]\n",
      "\n",
      "[[0.8974463  0.8261168  0.8291326  0.15789475 0.9030858 ]\n",
      " [0.05127685 0.08694161 0.08543371 0.15789475 0.04845705]\n",
      " [0.05127685 0.08694161 0.08543371 0.68421054 0.04845705]]\n"
     ]
    }
   ],
   "source": [
    "print(\"at t=10\")\n",
    "print(info[\"agent\"].A[1][-1,0,:,:,1])\n",
    "print()\n",
    "print(info[\"agent\"].A[2][-1,0,:,:,1])\n"
   ]
  },
  {
   "cell_type": "code",
   "execution_count": 17,
   "metadata": {},
   "outputs": [
    {
     "name": "stdout",
     "output_type": "stream",
     "text": [
      "at t=10\n",
      "[[2.7634706  0.15789475 0.15789476 0.68421054 2.9426582 ]\n",
      " [0.15789476 0.15789475 1.5323657  0.15789476 0.15789476]\n",
      " [0.15789476 1.5003119  0.15789476 0.15789476 0.15789476]]\n",
      "[[2.7634706  1.5003119  1.5323657  0.15789475 2.9426582 ]\n",
      " [0.15789476 0.15789476 0.15789476 0.15789475 0.15789476]\n",
      " [0.15789476 0.15789476 0.15789476 0.68421054 0.15789476]]\n"
     ]
    }
   ],
   "source": [
    "print(\"at t=10\")\n",
    "print(info[\"agent\"].pA[1][-1,0,:,:,1])\n",
    "print(info[\"agent\"].pA[2][-1,0,:,:,1])"
   ]
  },
  {
   "cell_type": "code",
   "execution_count": 18,
   "metadata": {},
   "outputs": [
    {
     "name": "stdout",
     "output_type": "stream",
     "text": [
      "[[0.]\n",
      " [0.]\n",
      " [0.]\n",
      " [4.]\n",
      " [1.]\n",
      " [4.]\n",
      " [0.]\n",
      " [4.]\n",
      " [4.]\n",
      " [2.]\n",
      " [2.]]\n"
     ]
    }
   ],
   "source": [
    "print(info[\"observation\"][0][:, 1, :])\n",
    "\n"
   ]
  },
  {
   "cell_type": "code",
   "execution_count": 19,
   "metadata": {},
   "outputs": [
    {
     "name": "stdout",
     "output_type": "stream",
     "text": [
      "[0.1]\n"
     ]
    }
   ],
   "source": [
    "print(agent.gamma)"
   ]
  },
  {
   "cell_type": "code",
   "execution_count": 20,
   "metadata": {},
   "outputs": [
    {
     "data": {
      "text/html": [
       "<table class=\"show_videos\" style=\"border-spacing:0px;\"><tr><td style=\"padding:1px;\"><video controls width=\"600\" height=\"600\" style=\"object-fit:cover;\" loop autoplay muted>\n",
       "      <source src=\"data:video/mp4;base64,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\" type=\"video/mp4\"/>\n",
       "      This browser does not support the video tag.\n",
       "      </video></td></tr></table>"
      ],
      "text/plain": [
       "<IPython.core.display.HTML object>"
      ]
     },
     "metadata": {},
     "output_type": "display_data"
    }
   ],
   "source": [
    "frames = []\n",
    "for t in range(info[\"observation\"][0].shape[0]):  # iterate over timesteps\n",
    "    # get observations for this timestep\n",
    "    observations_t = [\n",
    "        info[\"observation\"][0][t, :, :],\n",
    "        info[\"observation\"][1][t, :, :],  \n",
    "        info[\"observation\"][2][t, :, :]   \n",
    "    ]\n",
    "       \n",
    "    frame = env.render(mode=\"rgb_array\", observations=observations_t) # render the environment using the observations for this timestep\n",
    "    frame = np.asarray(frame, dtype=np.uint8)\n",
    "    plt.close()  # close the figure to prevent memory leak\n",
    "    frames.append(frame)\n",
    "\n",
    "frames = np.array(frames, dtype=np.uint8)\n",
    "mediapy.show_video(frames, fps=1)"
   ]
  },
  {
   "cell_type": "code",
   "execution_count": 21,
   "metadata": {},
   "outputs": [
    {
     "name": "stdout",
     "output_type": "stream",
     "text": [
      "[[[0 0]]\n",
      "\n",
      " [[2 0]]\n",
      "\n",
      " [[1 0]]\n",
      "\n",
      " [[4 0]]\n",
      "\n",
      " [[1 0]]\n",
      "\n",
      " [[4 0]]\n",
      "\n",
      " [[0 0]]\n",
      "\n",
      " [[4 0]]\n",
      "\n",
      " [[4 0]]\n",
      "\n",
      " [[2 0]]\n",
      "\n",
      " [[2 0]]]\n"
     ]
    }
   ],
   "source": [
    "print(info[\"action\"])"
   ]
  },
  {
   "cell_type": "code",
   "execution_count": 22,
   "metadata": {},
   "outputs": [],
   "source": [
    "# Random initialization test\n",
    "key = jr.PRNGKey(42)\n",
    "\n",
    "# Get base tensors from environment\n",
    "A = [jnp.array(a, dtype=jnp.float32) for a in env.params[\"A\"]]\n",
    "A_dependencies = env.dependencies[\"A\"]\n",
    "\n",
    "# Randomize A tensors for outcome and cue observations\n",
    "for i in [1, 2]:\n",
    "    key, subkey = jr.split(key)\n",
    "    # Generate random values between 0 and 1\n",
    "    A[i] = jr.uniform(subkey, shape=A[i].shape)\n",
    "    # Normalize to ensure valid probability distributions\n",
    "    A[i] = A[i] / jnp.sum(A[i], axis=1, keepdims=True)\n",
    "\n",
    "pA = A  # Store randomized A tensors for learning\n",
    "\n",
    "# Get base B tensors\n",
    "B = [jnp.array(b, dtype=jnp.float32) for b in env.params[\"B\"]]\n",
    "B_dependencies = env.dependencies[\"B\"]\n",
    "\n",
    "# Randomize location transitions\n",
    "key, subkey = jr.split(key)\n",
    "B[0] = jr.uniform(subkey, shape=B[0].shape)\n",
    "B[0] = B[0] / jnp.sum(B[0], axis=1, keepdims=True)\n",
    "\n",
    "# Randomize reward location transitions\n",
    "key, subkey = jr.split(key)\n",
    "B[1] = jr.uniform(subkey, shape=B[1].shape)\n",
    "B[1] = B[1] / jnp.sum(B[1], axis=1, keepdims=True)\n",
    "\n",
    "pB = B  # Store randomized B tensors for learning\n",
    "\n",
    "# Initialize agent with randomized tensors\n",
    "random_agent = Agent(\n",
    "    A, B, C, D,\n",
    "    pA=pA,\n",
    "    pB=pB,\n",
    "    policy_len=5,\n",
    "    A_dependencies=A_dependencies,\n",
    "    B_dependencies=B_dependencies,\n",
    "    apply_batch=False,\n",
    "    learn_A=True,\n",
    "    learn_B=True,\n",
    "    gamma=0.1,  # You might want to adjust learning rate\n",
    "    action_selection=\"stochastic\"\n",
    ")\n",
    "\n",
    "# Run simulation\n",
    "key = jr.PRNGKey(0)\n",
    "T = 40  # Increased timesteps to give more learning opportunity\n",
    "_, info, _ = rollout(random_agent, env, num_timesteps=T, rng_key=key)"
   ]
  },
  {
   "cell_type": "code",
   "execution_count": 23,
   "metadata": {},
   "outputs": [
    {
     "name": "stdout",
     "output_type": "stream",
     "text": [
      "the environment's A tensor\n",
      "[[1. 0. 0. 1. 1.]\n",
      " [0. 0. 1. 0. 0.]\n",
      " [0. 1. 0. 0. 0.]]\n",
      "[[1. 1. 1. 0. 1.]\n",
      " [0. 0. 0. 0. 0.]\n",
      " [0. 0. 0. 1. 0.]]\n"
     ]
    }
   ],
   "source": [
    "print(\"the environment's A tensor\")\n",
    "print(env.params[\"A\"][1][0][:,:,1])\n",
    "print(env.params[\"A\"][2][0][:,:,1])"
   ]
  },
  {
   "cell_type": "code",
   "execution_count": 24,
   "metadata": {},
   "outputs": [
    {
     "name": "stdout",
     "output_type": "stream",
     "text": [
      "Initial outcome observations (A[1]):\n",
      "[[0.5218738  0.30091077 0.4679604  0.14330989 0.16058761]\n",
      " [0.22740644 0.18828125 0.367972   0.15851246 0.43297487]\n",
      " [0.25071982 0.51080793 0.16406764 0.69817764 0.40643755]]\n",
      "\n",
      "Initial cue observations (A[2]):\n",
      "[[0.6556678  0.12907703 0.24858476 0.04353992 0.07885107]\n",
      " [0.33983567 0.22772244 0.34716552 0.59050167 0.71792424]\n",
      " [0.00449653 0.6432005  0.40424973 0.36595842 0.20322472]]\n",
      "\n",
      "Final outcome observations:\n",
      "[[0.9631952  0.04830016 0.05298445 0.8754568  0.88928324]\n",
      " [0.0175051  0.03022163 0.92843914 0.02304408 0.0571085 ]\n",
      " [0.0192997  0.9214782  0.01857643 0.10149904 0.05360828]]\n",
      "\n",
      "Final cue observations:\n",
      "[[9.7349423e-01 8.6020535e-01 9.1492158e-01 6.3297064e-03 8.7850237e-01]\n",
      " [2.6159586e-02 3.6552463e-02 3.9307546e-02 8.5845418e-02 9.4692744e-02]\n",
      " [3.4612996e-04 1.0324219e-01 4.5770861e-02 9.0782487e-01 2.6804926e-02]]\n"
     ]
    }
   ],
   "source": [
    "# Check initial A tensors\n",
    "print(\"Initial outcome observations (A[1]):\")\n",
    "print(random_agent.A[1][0,:,:,1])\n",
    "print(\"\\nInitial cue observations (A[2]):\")\n",
    "print(random_agent.A[2][0,:,:,1])\n",
    "\n",
    "# Check final A tensors\n",
    "print(\"\\nFinal outcome observations:\")\n",
    "print(info[\"agent\"].A[1][-1,0,:,:,1])\n",
    "print(\"\\nFinal cue observations:\")\n",
    "print(info[\"agent\"].A[2][-1,0,:,:,1])"
   ]
  },
  {
   "cell_type": "code",
   "execution_count": 25,
   "metadata": {},
   "outputs": [
    {
     "name": "stdout",
     "output_type": "stream",
     "text": [
      "Initial outcome observations (B[0]):\n",
      "[[0.09340456 0.10412216 0.08499063 0.26434857 0.25719061]\n",
      " [0.09820656 0.08211101 0.01237284 0.331993   0.22598736]\n",
      " [0.25686646 0.3196498  0.4598286  0.08734377 0.09786513]\n",
      " [0.0134291  0.24751367 0.26943    0.07691143 0.01194376]\n",
      " [0.5380933  0.24660337 0.17337795 0.23940317 0.40701312]]\n",
      "\n",
      "Initial cue observations (B[1]):\n",
      "[[0.2631618  0.18744703]\n",
      " [0.73683816 0.812553  ]]\n",
      "\n",
      "Final outcome observations:\n",
      "[[0.77335113 0.05206108 0.04249531 0.26434857 0.0857302 ]\n",
      " [0.02455164 0.5410555  0.00618642 0.331993   0.74199575]\n",
      " [0.06421661 0.1598249  0.7299143  0.08734377 0.03262171]\n",
      " [0.00335727 0.12375683 0.134715   0.07691143 0.00398125]\n",
      " [0.13452333 0.12330168 0.08668897 0.23940317 0.13567103]]\n",
      "\n",
      "Final cue observations:\n",
      "[[0.15513998 0.06100335]\n",
      " [0.84485996 0.9389967 ]]\n",
      "\n",
      "Environment's B tensor\n",
      "[[1. 0. 0. 0. 0.]\n",
      " [0. 1. 0. 0. 1.]\n",
      " [0. 0. 1. 0. 0.]\n",
      " [0. 0. 0. 1. 0.]\n",
      " [0. 0. 0. 0. 0.]]\n",
      "[[1. 0.]\n",
      " [0. 1.]]\n"
     ]
    }
   ],
   "source": [
    "# Check initial B tensors\n",
    "print(\"Initial outcome observations (B[0]):\")\n",
    "print(random_agent.B[0][0,:,:,1])\n",
    "print(\"\\nInitial cue observations (B[1]):\")\n",
    "print(random_agent.B[1][0,:,:,1])\n",
    "\n",
    "# Check final B tensors\n",
    "print(\"\\nFinal outcome observations:\")\n",
    "print(info[\"agent\"].B[0][-1,0,:,:,1])\n",
    "print(\"\\nFinal cue observations:\")\n",
    "print(info[\"agent\"].B[1][-1,0,:,:,1])\n",
    "print(\"\\nEnvironment's B tensor\")\n",
    "print(env.params[\"B\"][0][0][:,:,1])\n",
    "print(env.params[\"B\"][1][0][:,:,1])\n"
   ]
  },
  {
   "cell_type": "code",
   "execution_count": 26,
   "metadata": {},
   "outputs": [
    {
     "data": {
      "text/html": [
       "<table class=\"show_videos\" style=\"border-spacing:0px;\"><tr><td style=\"padding:1px;\"><video controls width=\"600\" height=\"600\" style=\"object-fit:cover;\" loop autoplay muted>\n",
       "      <source src=\"data:video/mp4;base64,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\" type=\"video/mp4\"/>\n",
       "      This browser does not support the video tag.\n",
       "      </video></td></tr></table>"
      ],
      "text/plain": [
       "<IPython.core.display.HTML object>"
      ]
     },
     "metadata": {},
     "output_type": "display_data"
    }
   ],
   "source": [
    "frames = []\n",
    "for t in range(info[\"observation\"][0].shape[0]):  # iterate over timesteps\n",
    "    # get observations for this timestep\n",
    "    observations_t = [\n",
    "        info[\"observation\"][0][t, :, :],\n",
    "        info[\"observation\"][1][t, :, :],  \n",
    "        info[\"observation\"][2][t, :, :]   \n",
    "    ]\n",
    "       \n",
    "    frame = env.render(mode=\"rgb_array\", observations=observations_t) # render the environment using the observations for this timestep\n",
    "    frame = np.asarray(frame, dtype=np.uint8)\n",
    "    plt.close()  # close the figure to prevent memory leak\n",
    "    frames.append(frame)\n",
    "\n",
    "frames = np.array(frames, dtype=np.uint8)\n",
    "mediapy.show_video(frames, fps=1)"
   ]
  }
 ],
 "metadata": {
  "kernelspec": {
   "display_name": ".venv",
   "language": "python",
   "name": "python3"
  },
  "language_info": {
   "codemirror_mode": {
    "name": "ipython",
    "version": 3
   },
   "file_extension": ".py",
   "mimetype": "text/x-python",
   "name": "python",
   "nbconvert_exporter": "python",
   "pygments_lexer": "ipython3",
   "version": "3.12.5"
  }
 },
 "nbformat": 4,
 "nbformat_minor": 2
}
