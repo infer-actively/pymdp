{
 "cells": [
  {
   "cell_type": "markdown",
   "metadata": {},
   "source": [
    "# T-Maze Task\n",
    "\n",
    "In this notebook, we simulate a T-Maze task (or three-arm bandit task) using an active inference (AIF) agent with the `jax-pymdp` library. Built on JAX, `jax-pymdp` enhances the original [`pymdp` package](https://pymdp-rtd.readthedocs.io/en/latest/) by enabling faster computations and parallel simulations of multiple agents.\n",
    "\n",
    "The T-Maze task (generative process) and the agent's generative model we implement in this notebook is adapted from [the sophisticated inference paper](https://discovery.ucl.ac.uk/id/eprint/10124606/). This task represents a classic problem in spatial navigation, learning, and decision-making, where an agent (in this case, a rat) must navigate a T-shaped maze. The agent starts at the centre of the T-maze. Within either the left or right arm, there is either a preferred (i.e., rewarding; cheese) stimulus or an aversive (i.e., punishing; shock) stimulus, with their locations initially unknown to the agent. In the bottom arm, an instructional cue provides information about the location of the rewarding stimulus.\n",
    "\n",
    "To solve the maze and locate the reward, the agent must decide whether to commit to one of the potentially rewarding arms or first seek information from the cue to identify the more profitable option before taking action. Cue validity, set at 95% in this simulation, represents the probability that the cue correctly indicates the reward's location. An optimal agent should learn to exploit the cue when it is valid and explore the arms when it is not. \n",
    "\n",
    "In this notebook, we will create the following simulations: \n",
    "1. single agent solving the task with vanilla active inference (using FPI)\n",
    "2. single agent solving the task with sophisticated inference\n",
    "3. multiple agents solving the task with vanilla active inference\n",
    "4. multiple agents solving the task with sophisticated inference\n",
    "\n",
    "<details>\n",
    "<summary> Notes on the main jax functions used in this notebook. </summary>\n",
    "- `jax.lax.scan`: used to iterate over the time dimension of the task.\n",
    "- `jax.tree_util.tree_map`: used to apply a function to each element of a tree (in this case, the info dictionary).\n",
    "</details>\n"
   ]
  },
  {
   "cell_type": "markdown",
   "metadata": {},
   "source": [
    "### Initial Setup\n",
    "To run this notebook, it is recommended to set up and use a virtual environment. You can refer to [this guide](https://packaging.python.org/en/latest/guides/installing-using-pip-and-virtual-environments/) to set up a virtual environment.\n",
    "\n",
    "Then, install the current repo, with the `jax-pymdp` package, as a package in editable mode by running the following command in your terminal:\n",
    "```bash\n",
    "pip install -e .\n",
    "```\n",
    "\n",
    "You also need to install [JAX](https://jax.readthedocs.io/en/latest/installation.html) to run this notebook."
   ]
  },
  {
   "cell_type": "code",
   "execution_count": 15,
   "metadata": {},
   "outputs": [
    {
     "name": "stdout",
     "output_type": "stream",
     "text": [
      "The autoreload extension is already loaded. To reload it, use:\n",
      "  %reload_ext autoreload\n"
     ]
    }
   ],
   "source": [
    "# a way to edit and run code and see the effects in the notebook without having to restart the kernel\n",
    "%load_ext autoreload\n",
    "%autoreload 2\n",
    "\n",
    "# importing necessary libraries\n",
    "import jax.numpy as jnp\n",
    "import matplotlib.pyplot as plt\n",
    "import numpy as np\n",
    "import mediapy\n",
    "\n",
    "from jax import random as jr\n",
    "from pymdp.envs import TMaze, rollout\n",
    "from matplotlib.animation import FuncAnimation, PillowWriter\n",
    "from IPython.display import HTML\n",
    "from pymdp.agent import Agent\n",
    "\n",
    "from PIL import Image"
   ]
  },
  {
   "cell_type": "markdown",
   "metadata": {},
   "source": [
    "### Creating the T-Maze Task (Generative Process)\n",
    "\n",
    "- The `batch_size` parameter specifies the number of environments to run in parallel.\n",
    "- The `reward_condition` parameter determines the reward location: `0` for the left arm, `1` for the right arm, or `None` for random allocation.\n",
    "- The `reward_probability` parameter sets the chance of receiving a reward in the correct arm. For example, if set at 0.80, there would be an 80% chance of reward and 20% chance of no outcome in the rewarding arm.\n",
    "- The `punishment_probability` parameter specifies the likelihood of punishment in the other arm. For example, if set at 0.80, there would be an 80% chance of punishment and 20% chance of no outcome in the non-rewarding arm.\n",
    "- The `cue_validity` parameter represents the accuracy of the cues as a probability between 0 and 1.\n",
    "\n",
    "<details>\n",
    "<summary> Click here to see how the generative process is set up. </summary>\n",
    "\n",
    "#### States and Observations\n",
    "\n",
    "**State Factors:**\n",
    "1. Location (5 states):\n",
    "    - 0: centre (start location)\n",
    "    - 1: left arm\n",
    "    - 2: right arm\n",
    "    - 3: cue location (bottom arm)\n",
    "    - 4: middle of arms (between left and right arm)\n",
    "2. Reward Location (2 states):\n",
    "    - 0: reward in left arm \n",
    "    - 1: reward in right arm\n",
    "\n",
    "**Observation Modalities:**\n",
    "1. Location (5 observations):\n",
    "    - Matches the location states exactly\n",
    "2. Outcome (3 observations):\n",
    "    - 0: no outcome\n",
    "    - 1: reward (cheese)\n",
    "    - 2: punishment (shock)\n",
    "3. Cue (3 observations):\n",
    "    - 0: no cue\n",
    "    - 1: left arm cued\n",
    "    - 2: right arm cued\n",
    "\n",
    "#### Environment Parameters\n",
    "\n",
    "**Observation Likelihood Model (A):**\n",
    "- A[0]: Location observations (5x5x1 tensor)\n",
    "  - Perfect mapping between true and observed location.\n",
    "- A[1]: Outcome observations (3x5x2 tensor)\n",
    "  - In the more rewarding arm, reward is presented with a likelihood determined by the `reward_probability` parameter.\n",
    "  - In the less rewarding arm, punishment is presented with a likelihood determined by the `punishment_probability` parameter.\n",
    "  - No outcomes are observed in the centre/start location, cue location, or middle of the arms.\n",
    "- A[2]: Cue observations (3x5x2 tensor)\n",
    "  - Indicating the reward location, at the cue location (bottom arm), with accuracy set by the `cue_validity` parameter.\n",
    "  - No cues visible elsewhere.\n",
    "\n",
    "**Transition Model (B):**\n",
    "- B[0]: Location transitions (5x5x5 tensor)\n",
    "  - Agent can move between adjacent maze cells or stay in the same cell.\n",
    "- B[1]: Reward location (2x2x1 tensor)\n",
    "  - Reward location remains fixed throughout trial.\n",
    "\n",
    "**Initial Conditions (D):**\n",
    "- D[0]: Starting location (5x1 tensor)\n",
    "  - Agent always begins in centre location\n",
    "- D[1]: Reward placement (2x1 tensor)\n",
    "  - Default: Equal chance (50/50) of reward in either arm (`reward_condition=None`)\n",
    "  - Optional: Can fix reward to specific arm, by setting `reward_condition` to `0` (for left arm) or `1` (for right arm)\n",
    "\n",
    "</details>\n",
    "\n"
   ]
  },
  {
   "cell_type": "code",
   "execution_count": 16,
   "metadata": {},
   "outputs": [],
   "source": [
    "# setting the parameters for the environment\n",
    "batch_size = 4 # number of environments to run in parallel\n",
    "reward_condition = None # 0 is reward in left arm, 1 is reward in right arm, None is random allocation\n",
    "reward_probability = 1.0 # 100% chance of reward in the correct arm\n",
    "punishment_probability = 1.0 # 100% chance of punishment in the other arm\n",
    "cue_validity = 1.0 # 100% valid cues"
   ]
  },
  {
   "cell_type": "code",
   "execution_count": 17,
   "metadata": {},
   "outputs": [],
   "source": [
    "# initialising the environment. see tmaze.py in pymdp/envs for the implementation details.\n",
    "env = TMaze( \n",
    "    batch_size=batch_size, \n",
    "    reward_probability=reward_probability,     \n",
    "    punishment_probability=punishment_probability, \n",
    "    cue_validity=cue_validity,          \n",
    "    reward_condition=reward_condition   \n",
    ")\n",
    "\n",
    "# you may print the environment parameters to see the shapes of the tensors and the values by editing and uncommenting the following lines and running the code: \n",
    "\n",
    "# print([a.shape for a in env.params[\"A\"]]) # shape of all A tensors; the shape should start with the batch_size, then the rows, columns, and additional dimensions for the dependencies\n",
    "# print(env.params[\"A\"][1][0][:,:,1]) # likelihood of observing no outcome, reward, or punishment (rows), in each location (columns), when the reward condition is 1 (right arm)\n",
    "# print(env.params[\"A\"][2][0][:,:,0]) # likelihood of observing no cue, left arm cued, or right arm cued (rows), in each location (columns), when the reward condition is 0 (left arm)\n",
    "\n",
    "# print([b.shape for b in env.params[\"B\"]]) # shape of all B tensors\n",
    "# print(env.params[\"B\"][0][0][:,:,4]) # probability of transitioning to each location (rows), from each location (columns), when the agent wants to move to the middle of the arms (location 4)"
   ]
  },
  {
   "cell_type": "markdown",
   "metadata": {},
   "source": [
    "### Creating the Agent (Generative Model)\n",
    "\n",
    "We will create the agent's generative model based off the A and B tensors of the environment. The A and B tensors remain the same as, in this simple design, we assume the agent has knowledge of the environment's parameters - i.e., it knows that the likelihood of observing a reward in the left arm is 1.0 if the reward is actually in the left arm (`reward_condition=0`), and it knows the cues are 100% accurate (`cue_validity=1.0`), and it knows that the reward location will be fixed throughout the trial (not volatile environment). We can of course change these assumptions to create a more complex agent, and we will do that in the next session where the agent will learn the environment's parameters such as the likelihood of the reward in the correct arms and the accuracy of the cues.\n",
    "\n",
    "The preference tensors (C) are set using the A tensor's shape. The agent is set to not have any preference to observe certain locations and cues. The agent is set to prefer reward and avoid punishment.\n",
    "\n",
    "The initial beliefs tensors (D; i.e., priors) are set using the B tensor's shape. The agent has a prior to  start in the centre location and the reward location is uniformly distributed.  \n"
   ]
  },
  {
   "cell_type": "code",
   "execution_count": 18,
   "metadata": {},
   "outputs": [],
   "source": [
    "#  setting A and B tensors from the environment parameters\n",
    "A = [jnp.array(a, dtype=jnp.float32) for a in env.params[\"A\"]]\n",
    "B = [jnp.array(b, dtype=jnp.float32) for b in env.params[\"B\"]]\n",
    "A_dependencies = env.dependencies[\"A\"] # dependencies allow you to specify the state factors the observation modality depends on so you dont have to compute the full tensor using all state factors\n",
    "B_dependencies = env.dependencies[\"B\"]\n",
    "\n",
    "# creating C tensors filled with zeros for [location], [reward], [cue] based on A shapes\n",
    "C = [jnp.zeros((batch_size, a.shape[1]), dtype=jnp.float32) for a in A] \n",
    "# setting preferences for outcomes only\n",
    "C[1] = C[1].at[:,1].set(2.0)    # prefer reward\n",
    "C[1] = C[1].at[:,2].set(-3.0)   # avoid punishment\n",
    "\n",
    "\n",
    "# creating D tensors [location], [reward] based on B shapes\n",
    "D = []\n",
    "# D[0]: location - all zeros except location 0 (centre) because the agent always starts in the centre\n",
    "D_loc = jnp.zeros((batch_size, B[0].shape[1]), dtype=jnp.float32) \n",
    "D_loc = D_loc.at[0,0].set(1.0)  # set centre location to 1.0\n",
    "D.append(D_loc)\n",
    "\n",
    "# D[1]: reward location - uniform distribution\n",
    "D_reward = jnp.ones((batch_size, B[1].shape[1]), dtype=jnp.float32) \n",
    "D_reward = D_reward / jnp.sum(D_reward, axis=1, keepdims=True)  # normalise to get uniform distribution\n",
    "D.append(D_reward)\n",
    "\n",
    "\n",
    "# initialising the agent\n",
    "agent = Agent(\n",
    "    A, B, C, D, \n",
    "    policy_len=5, # how long the action sequence is that the agent is evaluating\n",
    "    A_dependencies=A_dependencies, \n",
    "    B_dependencies=B_dependencies,\n",
    "    apply_batch=False \n",
    ")\n",
    "\n",
    "# you may print the agent's generative model parameters to see the shapes of the tensors and the values by editing and uncommenting the following lines and running the code: \n",
    "\n",
    "# print([a.shape for a in agent.A]) # shape of all A tensors\n",
    "# print(agent.A[1][0][:,:,1]) # likelihood of observing no outcome, reward, or punishment (rows), in each location (columns), when the reward condition is 1 (right arm)\n",
    "# print(agent.C[1]) # preferences for outcomes"
   ]
  },
  {
   "cell_type": "code",
   "execution_count": 19,
   "metadata": {},
   "outputs": [],
   "source": [
    "key = jr.PRNGKey(0) # random key for the aif loop\n",
    "T = 10 # number of timesteps to rollout the aif loop for\n",
    "_, info, _ = rollout(agent, env, num_timesteps=T, rng_key=key) # running the aif loop\n",
    "\n",
    "# you may print the info dictionary to see the numerical results of the aif agent completing the T-maze task by editing and uncommenting the following lines and running the code: \n",
    "\n",
    "# print(info.keys()) # keys in the info dictionary\n",
    "# print(info[\"action\"][:,0,:]) # actions taken by the agent (locations throughout the maze) \n",
    "# print(info[\"observation\"][0]) # observations of the locations for each batch\n",
    "# print(info[\"observation\"][2]) # observations of the cues for each batch\n",
    "# print(jnp.around(info[\"qs\"][1], decimals=2)) # posterior beliefs about the reward location\n",
    "# print(info[\"qpi\"][0].shape) # shape of the policy tensor\n"
   ]
  },
  {
   "cell_type": "markdown",
   "metadata": {},
   "source": [
    "#### Rendering the Task to Visualise the Agent's Behaviour"
   ]
  },
  {
   "cell_type": "code",
   "execution_count": 20,
   "metadata": {},
   "outputs": [
    {
     "data": {
      "text/html": [
       "<table class=\"show_videos\" style=\"border-spacing:0px;\"><tr><td style=\"padding:1px;\"><video controls width=\"600\" height=\"600\" style=\"object-fit:cover;\" loop autoplay muted>\n",
       "      <source src=\"data:video/mp4;base64,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\" type=\"video/mp4\"/>\n",
       "      This browser does not support the video tag.\n",
       "      </video></td></tr></table>"
      ],
      "text/plain": [
       "<IPython.core.display.HTML object>"
      ]
     },
     "metadata": {},
     "output_type": "display_data"
    }
   ],
   "source": [
    "frames = []\n",
    "for t in range(info[\"observation\"][0].shape[0]):  # iterate over timesteps\n",
    "    # Get observations for this timestep\n",
    "    observations_t = [\n",
    "        info[\"observation\"][0][t, :, :],  # shape: (batch_size, 1)\n",
    "        info[\"observation\"][1][t, :, :],  # shape: (batch_size, 1)\n",
    "        info[\"observation\"][2][t, :, :]   # shape: (batch_size, 1)\n",
    "    ]\n",
    "       \n",
    "    frame = env.render(mode=\"rgb_array\", observations=observations_t)\n",
    "    frame = np.asarray(frame, dtype=np.uint8)\n",
    "    plt.close()  # Close the figure to prevent memory leak\n",
    "    frames.append(frame)\n",
    "\n",
    "frames = np.array(frames, dtype=np.uint8)\n",
    "mediapy.show_video(frames, fps=1)\n",
    "\n",
    "# save as gif\n",
    "# pil_frames = [Image.fromarray(frame) for frame in frames]\n",
    "# reward_location = \"random\" if reward_condition is None else (\"left\" if reward_condition == 0 else \"right\")\n",
    "# filename = f\"tmaze_{batch_size}_{reward_location}.gif\"\n",
    "# pil_frames[0].save(\n",
    "#     filename,\n",
    "#     save_all=True,\n",
    "#     append_images=pil_frames[1:],\n",
    "#     duration=1000,  # 1000ms per frame\n",
    "#     loop=0\n",
    "# )"
   ]
  },
  {
   "cell_type": "code",
   "execution_count": null,
   "metadata": {},
   "outputs": [],
   "source": []
  }
 ],
 "metadata": {
  "kernelspec": {
   "display_name": ".venv",
   "language": "python",
   "name": "python3"
  },
  "language_info": {
   "codemirror_mode": {
    "name": "ipython",
    "version": 3
   },
   "file_extension": ".py",
   "mimetype": "text/x-python",
   "name": "python",
   "nbconvert_exporter": "python",
   "pygments_lexer": "ipython3",
   "version": "3.12.5"
  }
 },
 "nbformat": 4,
 "nbformat_minor": 2
}
