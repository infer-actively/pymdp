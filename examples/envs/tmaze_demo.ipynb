{
 "cells": [
  {
   "cell_type": "markdown",
   "metadata": {},
   "source": [
    "# T-Maze Task\n",
    "\n",
    "In this notebook, we simulate a T-Maze task (also known as the three-arm bandit task) using an active inference (AIF) agent with the `jax-pymdp` library. The `jax-pymdp` package is a newer, enhanced version of the original [`pymdp` package](https://pymdp-rtd.readthedocs.io/en/latest/) that allows for scaling up active inference agents. Built on JAX, `jax-pymdp` allows for faster computation and simulation of active inference models, and the ability to scale models to run multiple agents simultaneously through batching, making it ideal for complex, multi-agent tasks.\n",
    "\n",
    "The T-Maze task we use in this notebook is adapted from [the sophisticated inference paper](https://discovery.ucl.ac.uk/id/eprint/10124606/). This task represents a classic problem in spatial navigation, learning, and decision-making, where an agent (in this case, a rat) must navigate a T-shaped maze. The agent starts at the centre of the T-maze. Within either the left or right arm, there is either a preferred (i.e., rewarding; cheese) stimulus or an aversive (i.e., punishing; shock) stimulus, with their locations initially unknown to the agent. In the bottom arm, an instructional cue provides information about the location of the rewarding stimulus.\n",
    "\n",
    "To solve the maze and locate the reward, the agent must decide whether to commit to one of the potentially rewarding arms or first seek information from the cue to identify the more profitable option before taking action. Cue validity, set at 95% in this simulation, represents the probability that the cue correctly indicates the reward's location. An optimal agent should learn to exploit the cue when it is valid and explore the arms when it is not. \n",
    "\n",
    "In this notebook, we will create the following simulations: \n",
    "1. single agent solving the task with vanilla active inference\n",
    "2. single agent solving the task with sophisticated inference\n",
    "3. multiple agents solving the task with vanilla active inference\n",
    "4. multiple agents solving the task with sophisticated inference"
   ]
  },
  {
   "cell_type": "markdown",
   "metadata": {},
   "source": [
    "### Initial Setup\n",
    "To run this notebook, it is recommended to set up and use a virtual environment. You can refer to [this guide](https://packaging.python.org/en/latest/guides/installing-using-pip-and-virtual-environments/) to learn how to set up a virtual environment.\n",
    "\n",
    "Then, install the current repo, with the `jax-pymdp` package, as a package in editable mode by running the following command in your terminal:\n",
    "```bash\n",
    "pip install -e .\n",
    "```\n",
    "\n",
    "You also need to install [JAX](https://jax.readthedocs.io/en/latest/installation.html) to run this notebook."
   ]
  },
  {
   "cell_type": "code",
   "execution_count": 49,
   "metadata": {},
   "outputs": [
    {
     "name": "stdout",
     "output_type": "stream",
     "text": [
      "The autoreload extension is already loaded. To reload it, use:\n",
      "  %reload_ext autoreload\n"
     ]
    }
   ],
   "source": [
    "# a way to edit and run code and see the effects in the notebook without having to restart the kernel\n",
    "%load_ext autoreload\n",
    "%autoreload 2\n",
    "\n",
    "# importing necessary libraries\n",
    "import jax.numpy as jnp\n",
    "import matplotlib.pyplot as plt\n",
    "import numpy as np\n",
    "import mediapy\n",
    "\n",
    "from jax import random as jr\n",
    "from pymdp.envs import TMaze\n",
    "from matplotlib.animation import FuncAnimation, PillowWriter\n",
    "from IPython.display import HTML\n",
    "from pymdp.agent import Agent\n",
    "from pymdp.envs.tmaze import aif_loop\n",
    "from PIL import Image"
   ]
  },
  {
   "cell_type": "markdown",
   "metadata": {},
   "source": [
    "### The T-Maze Environment\n",
    "\n",
    "The environment can run multiple instances in parallel by adjusting the `batch_size` parameter.\n",
    "\n",
    "#### States and Observations\n",
    "\n",
    "**State Factors:**\n",
    "1. Location (5 states):\n",
    "    - 0: centre (start location)\n",
    "    - 1: left arm\n",
    "    - 2: right arm\n",
    "    - 3: cue location (bottom arm)\n",
    "    - 4: middle of arms (between left and right arm)\n",
    "2. Reward Location (2 states):\n",
    "    - 0: reward in left arm \n",
    "    - 1: reward in right arm\n",
    "\n",
    "**Observation Modalities:**\n",
    "1. Location (5 observations):\n",
    "    - Matches the location states exactly\n",
    "2. Outcome (3 observations):\n",
    "    - 0: no outcome\n",
    "    - 1: reward (cheese)\n",
    "    - 2: punishment (shock)\n",
    "3. Cue (3 observations):\n",
    "    - 0: no cue\n",
    "    - 1: left arm cued\n",
    "    - 2: right arm cued\n",
    "\n",
    "#### Environment Parameters\n",
    "\n",
    "**Observation Likelihood Model (A):**\n",
    "- A[0]: Location observations (5x5x1 tensor)\n",
    "  - Perfect mapping between true and observed location\n",
    "- A[1]: Outcome observations (3x5x2 tensor)\n",
    "  - In correct arm, the `reward_probability` is set at 100% \n",
    "  - In incorrect arm, the `punishment_probability` is set at 100%\n",
    "  - No outcomes in centre or cue locations\n",
    "- A[2]: Cue observations (3x5x2 tensor)\n",
    "  - Cue indicates reward location only at cue location, with `cue_validity` set at 95%\n",
    "  - No cues visible elsewhere\n",
    "\n",
    "**Transition Model (B):**\n",
    "- B[0]: Location transitions (5x5x4 tensor)\n",
    "  - Agent can move between any locations in one step \n",
    "- B[1]: Reward location (2x2x1 tensor)\n",
    "  - Reward location remains fixed throughout trial\n",
    "\n",
    "**Initial Conditions (D):**\n",
    "- D[0]: Starting location (5x1 tensor)\n",
    "  - Agent always begins in centre location\n",
    "- D[1]: Reward placement (2x1 tensor)\n",
    "  - Default: Equal chance (50/50) of reward in either arm (reward_condition=None)\n",
    "  - Optional: Can fix reward to specific arm, by setting `reward_condition` to 0 (for left arm) or 1 (for right arm)  \n"
   ]
  },
  {
   "cell_type": "code",
   "execution_count": 50,
   "metadata": {},
   "outputs": [],
   "source": [
    "batch_size = 4 # number of environments to run in parallel\n",
    "reward_condition = None # 0 is reward in left arm, 1 is reward in right arm, None is random allocation\n",
    "env = TMaze( # initialising the environment\n",
    "    batch_size=batch_size, \n",
    "    reward_probability=1.0,     # 100% chance of reward in correct arm\n",
    "    punishment_probability=1.0, # 100% chance of punishment in incorrect arm\n",
    "    cue_validity=1.0,          # 95% valid cues\n",
    "    reward_condition=reward_condition   # 0 is reward in left arm, 1 is reward in right arm, None is random allocation\n",
    ")"
   ]
  },
  {
   "cell_type": "code",
   "execution_count": 51,
   "metadata": {},
   "outputs": [
    {
     "name": "stdout",
     "output_type": "stream",
     "text": [
      "[[1. 1. 1. 0. 1.]\n",
      " [0. 0. 0. 0. 0.]\n",
      " [0. 0. 0. 1. 0.]]\n",
      "(4, 5)\n",
      "[[1. 0. 0. 0. 0.]\n",
      " [1. 0. 0. 0. 0.]\n",
      " [1. 0. 0. 0. 0.]\n",
      " [1. 0. 0. 0. 0.]]\n",
      "[[0.5 0.5]\n",
      " [0.5 0.5]\n",
      " [0.5 0.5]\n",
      " [0.5 0.5]]\n"
     ]
    }
   ],
   "source": [
    "# print(env.params[\"A\"][1].shape)\n",
    "# print(env.params[\"A\"][1][0][:,:,1])\n",
    "\n",
    "# print(env.params[\"A\"][2].shape)\n",
    "print(env.params[\"A\"][2][0][:,:,1])\n",
    "\n",
    "# print(env.params[\"B\"][0].shape)\n",
    "# print(env.params[\"B\"][0][0][:,:,4])\n",
    "\n",
    "print(env.params[\"D\"][0].shape)\n",
    "print(env.params[\"D\"][0])\n",
    "print(env.params[\"D\"][1])\n"
   ]
  },
  {
   "cell_type": "markdown",
   "metadata": {},
   "source": [
    "# Creating the Agent"
   ]
  },
  {
   "cell_type": "markdown",
   "metadata": {},
   "source": [
    "Riddhi's notes: \n",
    "- to try A learning with A[1] - the agent can learn the probability of reward in the correct arm and the probability of punishment in the incorrect arm.\n",
    "- to try A learning with A[2] - the agent can learn the cue validity.\n",
    "\n"
   ]
  },
  {
   "cell_type": "code",
   "execution_count": 52,
   "metadata": {},
   "outputs": [],
   "source": [
    "A = [jnp.array(a, dtype=jnp.float32) for a in env.params[\"A\"]]\n",
    "B = [jnp.array(b, dtype=jnp.float32) for b in env.params[\"B\"]]\n",
    "A_dependencies = env.dependencies[\"A\"]\n",
    "B_dependencies = env.dependencies[\"B\"]\n",
    "\n",
    "# create C tensors [location], [reward], [cue] based on A shapes\n",
    "C = [jnp.zeros((batch_size, a.shape[1]), dtype=jnp.float32) for a in A] \n",
    "# set preferences for outcomes only (keeping other preferences at zero)\n",
    "C[1] = C[1].at[:,1].set(2.0)    # prefer reward\n",
    "C[1] = C[1].at[:,2].set(-3.0)   # avoid punishment\n",
    "\n",
    "\n",
    "# create D tensors [location], [reward] based on B shapes\n",
    "D = []\n",
    "# D[0]: location - all zeros except location 0 (centre) because the agent always starts in the centre\n",
    "D_loc = jnp.zeros((batch_size, B[0].shape[1]), dtype=jnp.float32) \n",
    "D_loc = D_loc.at[0,0].set(1.0)  # set centre location to 1.0\n",
    "D.append(D_loc)\n",
    "\n",
    "# D[1]: reward location - uniform distribution\n",
    "D_reward = jnp.ones((batch_size, B[1].shape[1]), dtype=jnp.float32) \n",
    "D_reward = D_reward / jnp.sum(D_reward, axis=1, keepdims=True)  # normalise to get uniform distribution\n",
    "D.append(D_reward)\n",
    "\n",
    "\n",
    "agent = Agent(\n",
    "    A, B, C, D, \n",
    "    policy_len=6,\n",
    "    A_dependencies=A_dependencies, \n",
    "    B_dependencies=B_dependencies,\n",
    "    apply_batch=False \n",
    ")"
   ]
  },
  {
   "cell_type": "code",
   "execution_count": 53,
   "metadata": {},
   "outputs": [],
   "source": [
    "# print([a.shape for a in A])\n",
    "# print([b.shape for b in B])\n",
    "# print([c.shape for c in C])\n",
    "# print([d.shape for d in D])\n",
    "\n",
    "# print(agent.A_dependencies)\n",
    "# print(agent.B_dependencies)\n",
    "\n",
    "# print(agent.A[0][:,:])\n",
    "# print(agent.A[1][0][:,:,0])\n",
    "# print(agent.A[2][0][:,:,1])\n",
    "\n",
    "\n",
    "# print(agent.B[0][0][:,:,0])\n",
    "# print(agent.B[1][0][:,:,0])\n",
    "\n",
    "# print(agent.C[0])\n",
    "\n",
    "# print(agent.D[0])\n",
    "# print(agent.D[1])"
   ]
  },
  {
   "cell_type": "code",
   "execution_count": 54,
   "metadata": {},
   "outputs": [],
   "source": [
    "key = jr.PRNGKey(0)\n",
    "T = 10\n",
    "_, info, _ = aif_loop(agent, env, num_timesteps=T, rng_key=key)"
   ]
  },
  {
   "cell_type": "code",
   "execution_count": 55,
   "metadata": {},
   "outputs": [
    {
     "name": "stdout",
     "output_type": "stream",
     "text": [
      "[[0 0]\n",
      " [3 0]\n",
      " [0 0]\n",
      " [4 0]\n",
      " [2 0]\n",
      " [0 0]\n",
      " [0 0]\n",
      " [0 0]\n",
      " [0 0]\n",
      " [0 0]\n",
      " [0 0]]\n"
     ]
    }
   ],
   "source": [
    "print(info[\"action\"][:,0,:])\n",
    "# print(info[\"observation\"][0])\n",
    "# print(info[\"observation\"][2])\n",
    "# print(info[\"qs\"][1])\n",
    "# print(info[\"qpi\"][0].shape)"
   ]
  },
  {
   "cell_type": "code",
   "execution_count": 56,
   "metadata": {},
   "outputs": [
    {
     "name": "stdout",
     "output_type": "stream",
     "text": [
      "action: (11, 4, 2)\n",
      "env: <class 'pymdp.envs.tmaze.TMaze'>\n",
      "observation: [(11, 4, 1), (11, 4, 1), (11, 4, 1)]\n",
      "qpi: (11, 4, 15625)\n",
      "qs: [(11, 4, 5), (11, 4, 2)]\n"
     ]
    }
   ],
   "source": [
    "# Print shapes of all keys in info dictionary\n",
    "for key, value in info.items():\n",
    "    if isinstance(value, (list, tuple)):\n",
    "        print(f\"{key}: {[arr.shape if hasattr(arr, 'shape') else type(arr) for arr in value]}\")\n",
    "    elif hasattr(value, 'shape'):\n",
    "        print(f\"{key}: {value.shape}\")\n",
    "    else:\n",
    "        print(f\"{key}: {type(value)}\")"
   ]
  },
  {
   "cell_type": "code",
   "execution_count": 57,
   "metadata": {},
   "outputs": [
    {
     "data": {
      "text/html": [
       "<table class=\"show_videos\" style=\"border-spacing:0px;\"><tr><td style=\"padding:1px;\"><video controls width=\"600\" height=\"600\" style=\"object-fit:cover;\" loop autoplay muted>\n",
       "      <source src=\"data:video/mp4;base64,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\" type=\"video/mp4\"/>\n",
       "      This browser does not support the video tag.\n",
       "      </video></td></tr></table>"
      ],
      "text/plain": [
       "<IPython.core.display.HTML object>"
      ]
     },
     "metadata": {},
     "output_type": "display_data"
    }
   ],
   "source": [
    "frames = []\n",
    "\n",
    "keys = jr.split(jr.PRNGKey(0), 1 + batch_size)\n",
    "\n",
    "# reset environment for agent to be in start location\n",
    "o, env = env.reset(keys[1:])\n",
    "frames.append(env.render(mode=\"rgb_array\"))\n",
    "\n",
    "actions = info[\"action\"]  # Remove the [:,0,:] slice to keep batch dimension\n",
    "for t in range(actions.shape[0]):\n",
    "    # Get actions for all agents at time t\n",
    "    action = actions[t, :, :]  # This will have shape [batch_size, action_dim]\n",
    "    o, env = env.step(keys[1:], action)\n",
    "    frame = env.render(mode=\"rgb_array\")\n",
    "    frame = np.asarray(frame, dtype=np.uint8)\n",
    "    frames.append(frame)\n",
    "\n",
    "# convert to numpy array and ensure correct format\n",
    "frames = np.array(frames, dtype=np.uint8)\n",
    "\n",
    "# display video with appropriate duration\n",
    "mediapy.show_video(frames, fps=1)  # 1 frame per second to see all transitions\n",
    "\n",
    "# save as gif\n",
    "pil_frames = [Image.fromarray(frame) for frame in frames]\n",
    "reward_location = \"random\" if reward_condition is None else (\"left\" if reward_condition == 0 else \"right\")\n",
    "filename = f\"tmaze_{batch_size}_{reward_location}.gif\"\n",
    "pil_frames[0].save(\n",
    "    filename,\n",
    "    save_all=True,\n",
    "    append_images=pil_frames[1:],\n",
    "    duration=500,  # 2 fps = 500ms per frame\n",
    "    loop=0\n",
    ")"
   ]
  },
  {
   "cell_type": "code",
   "execution_count": null,
   "metadata": {},
   "outputs": [],
   "source": []
  }
 ],
 "metadata": {
  "kernelspec": {
   "display_name": ".venv",
   "language": "python",
   "name": "python3"
  },
  "language_info": {
   "codemirror_mode": {
    "name": "ipython",
    "version": 3
   },
   "file_extension": ".py",
   "mimetype": "text/x-python",
   "name": "python",
   "nbconvert_exporter": "python",
   "pygments_lexer": "ipython3",
   "version": "3.12.5"
  }
 },
 "nbformat": 4,
 "nbformat_minor": 2
}
