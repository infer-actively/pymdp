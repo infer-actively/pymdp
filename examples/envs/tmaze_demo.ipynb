{
 "cells": [
  {
   "cell_type": "markdown",
   "metadata": {},
   "source": [
    "# T-Maze Task\n",
    "\n",
    "In this notebook, we simulate a T-Maze task (or three-arm bandit task) using an active inference (AIF) agent with the `jax-pymdp` library. Built on JAX, `jax-pymdp` enhances the original [`pymdp` package](https://pymdp-rtd.readthedocs.io/en/latest/) by enabling faster computations and parallel simulations of multiple agents.\n",
    "\n",
    "The T-Maze task (generative process) and the agent's generative model we implement in this notebook is adapted from [the sophisticated inference paper](https://discovery.ucl.ac.uk/id/eprint/10124606/). This task represents a classic problem in spatial navigation, learning, and decision-making, where an agent (in this case, a rat) must navigate a T-shaped maze. The agent starts at the centre of the T-maze. Within either the left or right arm, there is either a preferred (i.e., rewarding; cheese) stimulus or an aversive (i.e., punishing; shock) stimulus, with their locations initially unknown to the agent. In the bottom arm, an instructional cue provides information about the location of the rewarding stimulus.\n",
    "\n",
    "To solve the maze and locate the reward, the agent must decide whether to commit to one of the potentially rewarding arms or first seek information from the cue to identify the more profitable option before taking action. Cue validity, set at 95% in this simulation, represents the probability that the cue correctly indicates the reward's location. An optimal agent should learn to exploit the cue when it is valid and explore the arms when it is not. \n",
    "\n",
    "In this notebook, we will create the following simulations: \n",
    "1. single agent solving the task with vanilla active inference (using FPI)\n",
    "2. single agent solving the task with sophisticated inference\n",
    "3. multiple agents solving the task with vanilla active inference\n",
    "4. multiple agents solving the task with sophisticated inference\n",
    "\n",
    "<details>\n",
    "<summary> Notes on the main jax functions used in this notebook. </summary>\n",
    "- `jax.lax.scan`: used to iterate over the time dimension of the task.\n",
    "- `jax.tree_util.tree_map`: used to apply a function to each element of a tree (in this case, the info dictionary).\n",
    "</details>\n"
   ]
  },
  {
   "cell_type": "markdown",
   "metadata": {},
   "source": [
    "### Initial Setup\n",
    "To run this notebook, it is recommended to set up and use a virtual environment. You can refer to [this guide](https://packaging.python.org/en/latest/guides/installing-using-pip-and-virtual-environments/) to set up a virtual environment.\n",
    "\n",
    "Then, install the current repo, with the `jax-pymdp` package, as a package in editable mode by running the following command in your terminal:\n",
    "```bash\n",
    "pip install -e .\n",
    "```\n",
    "\n",
    "You also need to install [JAX](https://jax.readthedocs.io/en/latest/installation.html) to run this notebook."
   ]
  },
  {
   "cell_type": "code",
   "execution_count": 64,
   "metadata": {},
   "outputs": [
    {
     "name": "stdout",
     "output_type": "stream",
     "text": [
      "The autoreload extension is already loaded. To reload it, use:\n",
      "  %reload_ext autoreload\n"
     ]
    },
    {
     "name": "stderr",
     "output_type": "stream",
     "text": [
      "/Users/riddhi/Desktop/jax_dev/pymdp/pymdp/agent.py:650: SyntaxWarning: assertion is always true, perhaps remove parentheses?\n",
      "  \n"
     ]
    }
   ],
   "source": [
    "# a way to edit and run code and see the effects in the notebook without having to restart the kernel\n",
    "%load_ext autoreload\n",
    "%autoreload 2\n",
    "\n",
    "# importing necessary libraries\n",
    "import jax.numpy as jnp\n",
    "import matplotlib.pyplot as plt\n",
    "import numpy as np\n",
    "import mediapy\n",
    "import equinox as eqx\n",
    "\n",
    "from jax import random as jr\n",
    "from pymdp.envs import TMaze, rollout\n",
    "from matplotlib.animation import FuncAnimation, PillowWriter\n",
    "from IPython.display import HTML\n",
    "from pymdp.agent import Agent\n",
    "\n",
    "from PIL import Image"
   ]
  },
  {
   "cell_type": "markdown",
   "metadata": {},
   "source": [
    "### Creating the T-Maze Task (Generative Process)\n",
    "\n",
    "- The `batch_size` parameter specifies the number of environments to run in parallel.\n",
    "- The `reward_condition` parameter determines the reward location: `0` for the left arm, `1` for the right arm, or `None` for random allocation.\n",
    "- The `reward_probability` parameter sets the chance of receiving a reward in the correct arm. For example, if set at 0.80, there would be an 80% chance of reward and 20% chance of no outcome in the rewarding arm.\n",
    "- The `punishment_probability` parameter specifies the likelihood of punishment in the other arm. For example, if set at 0.80, there would be an 80% chance of punishment and 20% chance of no outcome in the non-rewarding arm.\n",
    "- The `cue_validity` parameter represents the accuracy of the cues as a probability between 0 and 1.\n",
    "\n",
    "<details>\n",
    "<summary> Click here to see how the generative process is set up. </summary>\n",
    "\n",
    "#### States and Observations\n",
    "\n",
    "**State Factors:**\n",
    "1. Location (5 states):\n",
    "    - 0: centre (start location)\n",
    "    - 1: left arm\n",
    "    - 2: right arm\n",
    "    - 3: cue location (bottom arm)\n",
    "    - 4: middle of arms (between left and right arm)\n",
    "2. Reward Location (2 states):\n",
    "    - 0: reward in left arm \n",
    "    - 1: reward in right arm\n",
    "\n",
    "**Observation Modalities:**\n",
    "1. Location (5 observations):\n",
    "    - Matches the location states exactly\n",
    "2. Outcome (3 observations):\n",
    "    - 0: no outcome\n",
    "    - 1: reward (cheese)\n",
    "    - 2: punishment (shock)\n",
    "3. Cue (3 observations):\n",
    "    - 0: no cue\n",
    "    - 1: left arm cued\n",
    "    - 2: right arm cued\n",
    "\n",
    "#### Environment Parameters\n",
    "\n",
    "**Observation Likelihood Model (A):**\n",
    "- A[0]: Location observations (5x5x1 tensor)\n",
    "  - Perfect mapping between true and observed location.\n",
    "- A[1]: Outcome observations (3x5x2 tensor)\n",
    "  - In the more rewarding arm, reward is presented with a likelihood determined by the `reward_probability` parameter.\n",
    "  - In the less rewarding arm, punishment is presented with a likelihood determined by the `punishment_probability` parameter.\n",
    "  - No outcomes are observed in the centre/start location, cue location, or middle of the arms.\n",
    "- A[2]: Cue observations (3x5x2 tensor)\n",
    "  - Indicating the reward location, at the cue location (bottom arm), with accuracy set by the `cue_validity` parameter.\n",
    "  - No cues visible elsewhere.\n",
    "\n",
    "**Transition Model (B):**\n",
    "- B[0]: Location transitions (5x5x5 tensor)\n",
    "  - Agent can move between adjacent maze cells or stay in the same cell.\n",
    "- B[1]: Reward location (2x2x1 tensor)\n",
    "  - Reward location remains fixed throughout trial.\n",
    "\n",
    "**Initial Conditions (D):**\n",
    "- D[0]: Starting location (5x1 tensor)\n",
    "  - Agent always begins in centre location\n",
    "- D[1]: Reward placement (2x1 tensor)\n",
    "  - Default: Equal chance (50/50) of reward in either arm (`reward_condition=None`)\n",
    "  - Optional: Can fix reward to specific arm, by setting `reward_condition` to `0` (for left arm) or `1` (for right arm)\n",
    "\n",
    "</details>\n",
    "\n"
   ]
  },
  {
   "cell_type": "code",
   "execution_count": 65,
   "metadata": {},
   "outputs": [],
   "source": [
    "# setting the parameters for the environment\n",
    "batch_size = 1 # number of environments to run in parallel\n",
    "reward_condition = None # 0 is reward in left arm, 1 is reward in right arm, None is random allocation\n",
    "reward_probability = 1.0 # 100% chance of reward in the correct arm\n",
    "punishment_probability = 1.0 # 100% chance of punishment in the other arm\n",
    "cue_validity = 1.0 # 100% valid cues"
   ]
  },
  {
   "cell_type": "code",
   "execution_count": 66,
   "metadata": {},
   "outputs": [],
   "source": [
    "# initialising the environment. see tmaze.py in pymdp/envs for the implementation details.\n",
    "env = TMaze( \n",
    "    batch_size=batch_size, \n",
    "    reward_probability=reward_probability,     \n",
    "    punishment_probability=punishment_probability, \n",
    "    cue_validity=cue_validity,          \n",
    "    reward_condition=reward_condition   \n",
    ")\n",
    "\n",
    "# you may print the environment parameters to see the shapes of the tensors and the values by editing and uncommenting the following lines and running the code: \n",
    "\n",
    "# print([a.shape for a in env.params[\"A\"]]) # shape of all A tensors; the shape should start with the batch_size, then the rows, columns, and additional dimensions for the dependencies\n",
    "# print(env.params[\"A\"][1][0][:,:,1]) # likelihood of observing no outcome, reward, or punishment (rows), in each location (columns), when the reward condition is 1 (right arm)\n",
    "# print(env.params[\"A\"][2][0][:,:,0]) # likelihood of observing no cue, left arm cued, or right arm cued (rows), in each location (columns), when the reward condition is 0 (left arm)\n",
    "\n",
    "# print([b.shape for b in env.params[\"B\"]]) # shape of all B tensors\n",
    "# print(env.params[\"B\"][0][0][:,:,4]) # probability of transitioning to each location (rows), from each location (columns), when the agent wants to move to the middle of the arms (location 4)"
   ]
  },
  {
   "cell_type": "markdown",
   "metadata": {},
   "source": [
    "### Creating the Agent (Generative Model)\n",
    "\n",
    "We will create the agent's generative model based off the A and B tensors of the environment. The A and B tensors remain the same as, in this simple design, we assume the agent has knowledge of the environment's parameters - i.e., it knows that the likelihood of observing a reward in the left arm is 1.0 if the reward is actually in the left arm (`reward_condition=0`), and it knows the cues are 100% accurate (`cue_validity=1.0`), and it knows that the reward location will be fixed throughout the trial (not volatile environment). We can of course change these assumptions to create a more complex agent, and we will do that in the next session where the agent will learn the environment's parameters such as the likelihood of the reward in the correct arms and the accuracy of the cues.\n",
    "\n",
    "The preference tensors (C) are set using the A tensor's shape. The agent is set to not have any preference to observe certain locations and cues. The agent is set to prefer reward and avoid punishment.\n",
    "\n",
    "The initial beliefs tensors (D; i.e., priors) are set using the B tensor's shape. The agent has a prior to  start in the centre location and the reward location is uniformly distributed.  \n"
   ]
  },
  {
   "cell_type": "code",
   "execution_count": 67,
   "metadata": {},
   "outputs": [],
   "source": [
    "#  setting A tensors from the environment parameters\n",
    "A = [jnp.array(a, dtype=jnp.float32) for a in env.params[\"A\"]]\n",
    "A_dependencies = env.dependencies[\"A\"] # dependencies allow you to specify the state factors the observation modality depends on so you dont have to compute the full tensor using all state factors\n",
    "\n",
    "# setting B tensors from the environment parameters\n",
    "B = [jnp.array(b, dtype=jnp.float32) for b in env.params[\"B\"]]\n",
    "B_dependencies = env.dependencies[\"B\"]\n",
    "\n",
    "# creating C tensors filled with zeros for [location], [reward], [cue] based on A shapes\n",
    "C = [jnp.zeros((batch_size, a.shape[1]), dtype=jnp.float32) for a in A] \n",
    "# setting preferences for outcomes only\n",
    "C[1] = C[1].at[:,1].set(2.0)    # prefer reward\n",
    "C[1] = C[1].at[:,2].set(-3.0)   # avoid punishment\n",
    "\n",
    "\n",
    "# creating D tensors [location], [reward] based on B shapes\n",
    "D = []\n",
    "# D[0]: location - all zeros except location 0 (centre) because the agent always starts in the centre\n",
    "D_loc = jnp.zeros((batch_size, B[0].shape[1]), dtype=jnp.float32) \n",
    "D_loc = D_loc.at[0,0].set(1.0)  # set centre location to 1.0\n",
    "D.append(D_loc)\n",
    "\n",
    "# D[1]: reward location - uniform distribution\n",
    "D_reward = jnp.ones((batch_size, B[1].shape[1]), dtype=jnp.float32) \n",
    "D_reward = D_reward / jnp.sum(D_reward, axis=1, keepdims=True)  # normalise to get uniform distribution\n",
    "D.append(D_reward)\n",
    "\n",
    "\n",
    "# initialising the agent\n",
    "agent = Agent(\n",
    "    A, B, C, D, \n",
    "    policy_len=5, # how long the action sequence is that the agent is evaluating\n",
    "    A_dependencies=A_dependencies, \n",
    "    B_dependencies=B_dependencies,\n",
    "    apply_batch=False,\n",
    "    learn_A=False,\n",
    "    learn_B=False\n",
    ")\n",
    "\n",
    "# you may print the agent's generative model parameters to see the shapes of the tensors and the values by editing and uncommenting the following lines and running the code: \n",
    "\n",
    "# print([a.shape for a in agent.A]) # shape of all A tensors\n",
    "# print(agent.A[1][0][:,:,1]) # likelihood of observing no outcome, reward, or punishment (rows), in each location (columns), when the reward condition is 1 (right arm)\n",
    "# print(agent.C[1]) # preferences for outcomes"
   ]
  },
  {
   "cell_type": "code",
   "execution_count": 68,
   "metadata": {},
   "outputs": [],
   "source": [
    "key = jr.PRNGKey(0) # random key for the aif loop\n",
    "T = 10 # number of timesteps to rollout the aif loop for\n",
    "_, info, _ = rollout(agent, env, num_timesteps=T, rng_key=key) # running the aif loop\n",
    "\n",
    "# you may print the info dictionary to see the numerical results of the aif agent completing the T-maze task by editing and uncommenting the following lines and running the code: \n",
    "\n",
    "# print(info.keys()) # keys in the info dictionary\n",
    "# print(info[\"action\"][:,0,:]) # actions taken by the agent (locations throughout the maze) \n",
    "# print(info[\"observation\"][0]) # observations of the locations for each batch\n",
    "# print(info[\"observation\"][2]) # observations of the cues for each batch\n",
    "# print(jnp.around(info[\"qs\"][1], decimals=2)) # posterior beliefs about the reward location\n",
    "# print(info[\"qpi\"][0].shape) # shape of the policy tensor\n"
   ]
  },
  {
   "cell_type": "markdown",
   "metadata": {},
   "source": [
    "#### Rendering the Task to Visualise the Agent's Behaviour"
   ]
  },
  {
   "cell_type": "code",
   "execution_count": 69,
   "metadata": {},
   "outputs": [
    {
     "data": {
      "text/html": [
       "<table class=\"show_videos\" style=\"border-spacing:0px;\"><tr><td style=\"padding:1px;\"><video controls width=\"600\" height=\"600\" style=\"object-fit:cover;\" loop autoplay muted>\n",
       "      <source src=\"data:video/mp4;base64,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\" type=\"video/mp4\"/>\n",
       "      This browser does not support the video tag.\n",
       "      </video></td></tr></table>"
      ],
      "text/plain": [
       "<IPython.core.display.HTML object>"
      ]
     },
     "metadata": {},
     "output_type": "display_data"
    }
   ],
   "source": [
    "frames = []\n",
    "for t in range(info[\"observation\"][0].shape[0]):  # iterate over timesteps\n",
    "    # get observations for this timestep\n",
    "    observations_t = [\n",
    "        info[\"observation\"][0][t, :, :],\n",
    "        info[\"observation\"][1][t, :, :],  \n",
    "        info[\"observation\"][2][t, :, :]   \n",
    "    ]\n",
    "       \n",
    "    frame = env.render(mode=\"rgb_array\", observations=observations_t) # render the environment using the observations for this timestep\n",
    "    frame = np.asarray(frame, dtype=np.uint8)\n",
    "    plt.close()  # close the figure to prevent memory leak\n",
    "    frames.append(frame)\n",
    "\n",
    "frames = np.array(frames, dtype=np.uint8)\n",
    "mediapy.show_video(frames, fps=1)\n",
    "\n",
    "# uncomment the following lines to save the video as a gif\n",
    "# pil_frames = [Image.fromarray(frame) for frame in frames]\n",
    "# reward_location = \"random\" if reward_condition is None else (\"left\" if reward_condition == 0 else \"right\")\n",
    "# filename = f\"tmaze_{batch_size}_{reward_location}.gif\"\n",
    "# pil_frames[0].save(\n",
    "#     filename,\n",
    "#     save_all=True,\n",
    "#     append_images=pil_frames[1:],\n",
    "#     duration=1000,  # 1000ms per frame\n",
    "#     loop=0\n",
    "# )"
   ]
  },
  {
   "cell_type": "markdown",
   "metadata": {},
   "source": [
    "# A and B learning\n",
    "\n",
    "### loading the generative process (environment)"
   ]
  },
  {
   "cell_type": "code",
   "execution_count": 70,
   "metadata": {},
   "outputs": [],
   "source": [
    "# setting the parameters for the environment\n",
    "batch_size = 1 # number of environments to run in parallel\n",
    "reward_condition = 1 # 0 is reward in left arm, 1 is reward in right arm, None is random allocation\n",
    "reward_probability = 1.0 # 100% chance of reward in the correct arm\n",
    "punishment_probability = 1.0 # 100% chance of punishment in the other arm\n",
    "cue_validity = 1.0 # 100% valid cues\n",
    "\n",
    "# initialising the environment. see tmaze.py in pymdp/envs for the implementation details.\n",
    "env = TMaze( \n",
    "    batch_size=batch_size, \n",
    "    reward_probability=reward_probability,     \n",
    "    punishment_probability=punishment_probability, \n",
    "    cue_validity=cue_validity,          \n",
    "    reward_condition=reward_condition   \n",
    ")"
   ]
  },
  {
   "cell_type": "markdown",
   "metadata": {},
   "source": [
    "### the agent's generative model"
   ]
  },
  {
   "cell_type": "code",
   "execution_count": 71,
   "metadata": {},
   "outputs": [],
   "source": [
    "#  setting A tensors from the environment parameters\n",
    "A = [jnp.array(a, dtype=jnp.float32) for a in env.params[\"A\"]]\n",
    "A_dependencies = env.dependencies[\"A\"] \n",
    "\n",
    "# adding noise to flatten the distributions (make more uncertain) \n",
    "noise_level = 0.3 \n",
    "for i in [1, 2]:  # only modifying the outcome (i=1) and cue (i=2) observation likelihood mappings\n",
    "    # A[i] = jnp.flip(A[i], axis=1) # flipping for testing purposes\n",
    "\n",
    "    noise = noise_level * jnp.ones_like(A[i])\n",
    "    A[i] = A[i] + noise\n",
    "    A[i] = A[i] / jnp.sum(A[i], axis=1, keepdims=True) # normalise to ensure each distribution sums to 1\n",
    "\n",
    "pA = A\n",
    "\n",
    "# setting B tensors from the environment parameters\n",
    "B = [jnp.array(b, dtype=jnp.float32) for b in env.params[\"B\"]]\n",
    "B_dependencies = env.dependencies[\"B\"]\n",
    "\n",
    "# B[0] = jnp.flip(B[0], axis=(1,2)) # flipping for testing purposes\n",
    "\n",
    "# adding noise to flatten the distributions (make more uncertain) \n",
    "key, subkey = jr.split(key)\n",
    "noise = noise_level * jr.uniform(subkey, shape=B[0].shape)\n",
    "B[0] = B[0] + noise\n",
    "B[0] = B[0] / jnp.sum(B[0], axis=1, keepdims=True) # normalise to ensure each distribution sums to 1\n",
    "\n",
    "key, subkey = jr.split(key)\n",
    "noise = noise_level * jr.uniform(subkey, shape=B[1].shape)\n",
    "# B[1] = jnp.flip(B[1], axis=(1,2)) # flipping for testing purposes\n",
    "B[1] = B[1] + noise\n",
    "B[1] = B[1] / jnp.sum(B[1], axis=1, keepdims=True) # normalise to ensure each distribution sums to 1\n",
    "\n",
    "pB = B\n",
    "\n",
    "# creating C tensors filled with zeros for [location], [reward], [cue] based on A shapes\n",
    "C = [jnp.zeros((batch_size, a.shape[1]), dtype=jnp.float32) for a in A] \n",
    "# setting preferences for outcomes only\n",
    "C[1] = C[1].at[:,1].set(2.0)    # prefer reward\n",
    "C[1] = C[1].at[:,2].set(-3.0)   # avoid punishment\n",
    "\n",
    "\n",
    "# creating D tensors [location], [reward] based on B shapes\n",
    "D = []\n",
    "# D[0]: location - all zeros except location 0 (centre) because the agent always starts in the centre\n",
    "D_loc = jnp.zeros((batch_size, B[0].shape[1]), dtype=jnp.float32) \n",
    "D_loc = D_loc.at[0,0].set(1.0)  # set centre location to 1.0\n",
    "D.append(D_loc)\n",
    "\n",
    "# D[1]: reward location - uniform distribution\n",
    "D_reward = jnp.ones((batch_size, B[1].shape[1]), dtype=jnp.float32) \n",
    "D_reward = D_reward / jnp.sum(D_reward, axis=1, keepdims=True)  # normalise to get uniform distribution\n",
    "D.append(D_reward)\n",
    "\n",
    "\n",
    "# initialising the agent\n",
    "agent = Agent(\n",
    "    A, B, C, D, \n",
    "    pA=pA,\n",
    "    pB=pB, # adding the noisy A tensor for learning\n",
    "    policy_len=5, # how long the action sequence is that the agent is evaluating\n",
    "    A_dependencies=A_dependencies, \n",
    "    B_dependencies=B_dependencies,\n",
    "    apply_batch=False, \n",
    "    learn_A=True,\n",
    "    learn_B=True,\n",
    "    gamma=0.1,\n",
    "    action_selection=\"stochastic\"\n",
    ")"
   ]
  },
  {
   "cell_type": "code",
   "execution_count": 72,
   "metadata": {},
   "outputs": [],
   "source": [
    "key = jr.PRNGKey(0) # random key for the aif loop\n",
    "T = 10 # number of timesteps to rollout the aif loop for\n",
    "_, info, _ = rollout(agent, env, num_timesteps=T, rng_key=key) # running the aif loop"
   ]
  },
  {
   "cell_type": "code",
   "execution_count": 73,
   "metadata": {},
   "outputs": [
    {
     "name": "stdout",
     "output_type": "stream",
     "text": [
      "at t=0\n",
      "[[0.55928385 0.03319283 0.0423363  0.14858027 0.00967858]\n",
      " [0.12059184 0.82310116 0.11142875 0.04356447 0.80422693]\n",
      " [0.05870756 0.01633091 0.81928074 0.07423069 0.05903195]\n",
      " [0.14976892 0.07099813 0.02205921 0.72776103 0.12234119]\n",
      " [0.11164781 0.05637698 0.00489496 0.00586354 0.00472126]]\n",
      "\n",
      "[[0.812142   0.1745717 ]\n",
      " [0.18785803 0.8254283 ]]\n"
     ]
    }
   ],
   "source": [
    "print(\"at t=0\")\n",
    "print(info[\"agent\"].B[0][0,0,:,:,1])\n",
    "print()\n",
    "print(info[\"agent\"].B[1][0,0,:,:,1])\n",
    "\n"
   ]
  },
  {
   "cell_type": "code",
   "execution_count": 74,
   "metadata": {},
   "outputs": [
    {
     "name": "stdout",
     "output_type": "stream",
     "text": [
      "at t=10\n",
      "[[0.7796419  0.03319283 0.0423363  0.14858027 0.00483929]\n",
      " [0.06029592 0.82310116 0.11142875 0.04356447 0.9021135 ]\n",
      " [0.02935378 0.01633091 0.81928074 0.07423069 0.02951598]\n",
      " [0.07488446 0.07099813 0.02205921 0.72776103 0.0611706 ]\n",
      " [0.0558239  0.05637698 0.00489496 0.00586354 0.00236063]]\n",
      "\n",
      "[[0.47945264 0.36392748]\n",
      " [0.5205474  0.63607246]]\n"
     ]
    }
   ],
   "source": [
    "print(\"at t=10\")\n",
    "print(info[\"agent\"].B[0][-1,0,:,:,1])\n",
    "print()\n",
    "print(info[\"agent\"].B[1][-1,0,:,:,1])\n"
   ]
  },
  {
   "cell_type": "code",
   "execution_count": 75,
   "metadata": {},
   "outputs": [
    {
     "name": "stdout",
     "output_type": "stream",
     "text": [
      "the environment's A tensor\n",
      "[[1. 0. 0. 1. 1.]\n",
      " [0. 0. 1. 0. 0.]\n",
      " [0. 1. 0. 0. 0.]]\n",
      "[[1. 1. 1. 0. 1.]\n",
      " [0. 0. 0. 0. 0.]\n",
      " [0. 0. 0. 1. 0.]]\n"
     ]
    }
   ],
   "source": [
    "print(\"the environment's A tensor\")\n",
    "print(env.params[\"A\"][1][0][:,:,1])\n",
    "print(env.params[\"A\"][2][0][:,:,1])"
   ]
  },
  {
   "cell_type": "code",
   "execution_count": 76,
   "metadata": {},
   "outputs": [
    {
     "name": "stdout",
     "output_type": "stream",
     "text": [
      "at t=0\n",
      "[[0.68421054 0.15789475 0.15789476 0.68421054 0.68421054]\n",
      " [0.15789476 0.15789475 0.68421054 0.15789476 0.15789476]\n",
      " [0.15789476 0.68421054 0.15789476 0.15789476 0.15789476]]\n",
      "\n",
      "[[0.68421054 0.68421054 0.68421054 0.15789475 0.68421054]\n",
      " [0.15789476 0.15789476 0.15789476 0.15789475 0.15789476]\n",
      " [0.15789476 0.15789476 0.15789476 0.68421054 0.15789476]]\n"
     ]
    }
   ],
   "source": [
    "print(\"at t=0\")\n",
    "print(agent.A[1][0][:,:,1])\n",
    "print()\n",
    "print(agent.A[2][0][:,:,1])\n",
    "\n"
   ]
  },
  {
   "cell_type": "code",
   "execution_count": 77,
   "metadata": {},
   "outputs": [
    {
     "name": "stdout",
     "output_type": "stream",
     "text": [
      "at t=10\n",
      "[[0.8974463  0.08694159 0.08543371 0.68421054 0.9030858 ]\n",
      " [0.05127685 0.08694159 0.8291326  0.15789476 0.04845705]\n",
      " [0.05127685 0.8261168  0.08543371 0.15789476 0.04845705]]\n",
      "\n",
      "[[0.8974463  0.8261168  0.8291326  0.15789475 0.9030858 ]\n",
      " [0.05127685 0.08694161 0.08543371 0.15789475 0.04845705]\n",
      " [0.05127685 0.08694161 0.08543371 0.68421054 0.04845705]]\n"
     ]
    }
   ],
   "source": [
    "print(\"at t=10\")\n",
    "print(info[\"agent\"].A[1][-1,0,:,:,1])\n",
    "print()\n",
    "print(info[\"agent\"].A[2][-1,0,:,:,1])\n"
   ]
  },
  {
   "cell_type": "code",
   "execution_count": 78,
   "metadata": {},
   "outputs": [
    {
     "name": "stdout",
     "output_type": "stream",
     "text": [
      "at t=10\n",
      "[[2.7634706  0.15789475 0.15789476 0.68421054 2.9426582 ]\n",
      " [0.15789476 0.15789475 1.5323657  0.15789476 0.15789476]\n",
      " [0.15789476 1.5003119  0.15789476 0.15789476 0.15789476]]\n",
      "[[2.7634706  1.5003119  1.5323657  0.15789475 2.9426582 ]\n",
      " [0.15789476 0.15789476 0.15789476 0.15789475 0.15789476]\n",
      " [0.15789476 0.15789476 0.15789476 0.68421054 0.15789476]]\n"
     ]
    }
   ],
   "source": [
    "print(\"at t=10\")\n",
    "print(info[\"agent\"].pA[1][-1,0,:,:,1])\n",
    "print(info[\"agent\"].pA[2][-1,0,:,:,1])"
   ]
  },
  {
   "cell_type": "code",
   "execution_count": 79,
   "metadata": {},
   "outputs": [
    {
     "name": "stdout",
     "output_type": "stream",
     "text": [
      "[[0.]\n",
      " [0.]\n",
      " [0.]\n",
      " [4.]\n",
      " [1.]\n",
      " [4.]\n",
      " [0.]\n",
      " [4.]\n",
      " [4.]\n",
      " [2.]\n",
      " [2.]]\n"
     ]
    }
   ],
   "source": [
    "print(info[\"observation\"][0][:, 1, :])\n",
    "\n"
   ]
  },
  {
   "cell_type": "code",
   "execution_count": 80,
   "metadata": {},
   "outputs": [
    {
     "name": "stdout",
     "output_type": "stream",
     "text": [
      "[0.1]\n"
     ]
    }
   ],
   "source": [
    "print(agent.gamma)"
   ]
  },
  {
   "cell_type": "code",
   "execution_count": 81,
   "metadata": {},
   "outputs": [
    {
     "data": {
      "text/html": [
       "<table class=\"show_videos\" style=\"border-spacing:0px;\"><tr><td style=\"padding:1px;\"><video controls width=\"600\" height=\"600\" style=\"object-fit:cover;\" loop autoplay muted>\n",
       "      <source src=\"data:video/mp4;base64,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\" type=\"video/mp4\"/>\n",
       "      This browser does not support the video tag.\n",
       "      </video></td></tr></table>"
      ],
      "text/plain": [
       "<IPython.core.display.HTML object>"
      ]
     },
     "metadata": {},
     "output_type": "display_data"
    }
   ],
   "source": [
    "frames = []\n",
    "for t in range(info[\"observation\"][0].shape[0]):  # iterate over timesteps\n",
    "    # get observations for this timestep\n",
    "    observations_t = [\n",
    "        info[\"observation\"][0][t, :, :],\n",
    "        info[\"observation\"][1][t, :, :],  \n",
    "        info[\"observation\"][2][t, :, :]   \n",
    "    ]\n",
    "       \n",
    "    frame = env.render(mode=\"rgb_array\", observations=observations_t) # render the environment using the observations for this timestep\n",
    "    frame = np.asarray(frame, dtype=np.uint8)\n",
    "    plt.close()  # close the figure to prevent memory leak\n",
    "    frames.append(frame)\n",
    "\n",
    "frames = np.array(frames, dtype=np.uint8)\n",
    "mediapy.show_video(frames, fps=1)"
   ]
  },
  {
   "cell_type": "code",
   "execution_count": 82,
   "metadata": {},
   "outputs": [
    {
     "name": "stdout",
     "output_type": "stream",
     "text": [
      "[[[0 0]]\n",
      "\n",
      " [[2 0]]\n",
      "\n",
      " [[1 0]]\n",
      "\n",
      " [[4 0]]\n",
      "\n",
      " [[1 0]]\n",
      "\n",
      " [[4 0]]\n",
      "\n",
      " [[0 0]]\n",
      "\n",
      " [[4 0]]\n",
      "\n",
      " [[4 0]]\n",
      "\n",
      " [[2 0]]\n",
      "\n",
      " [[2 0]]]\n"
     ]
    }
   ],
   "source": [
    "print(info[\"action\"])"
   ]
  },
  {
   "cell_type": "code",
   "execution_count": null,
   "metadata": {},
   "outputs": [],
   "source": []
  }
 ],
 "metadata": {
  "kernelspec": {
   "display_name": ".venv",
   "language": "python",
   "name": "python3"
  },
  "language_info": {
   "codemirror_mode": {
    "name": "ipython",
    "version": 3
   },
   "file_extension": ".py",
   "mimetype": "text/x-python",
   "name": "python",
   "nbconvert_exporter": "python",
   "pygments_lexer": "ipython3",
   "version": "3.12.5"
  }
 },
 "nbformat": 4,
 "nbformat_minor": 2
}
