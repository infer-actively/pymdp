{
 "cells": [
  {
   "cell_type": "markdown",
   "metadata": {},
   "source": [
    "# T-Maze Task\n",
    "\n",
    "In this notebook, we simulate a T-Maze task (also known as the three-arm bandit task) using an active inference (AIF) agent with the `jax-pymdp` library. The `jax-pymdp` package is a newer, enhanced version of the original [`pymdp` package](https://pymdp-rtd.readthedocs.io/en/latest/) that allows for scaling up active inference agents. Built on JAX, `jax-pymdp` allows for faster computation and simulation of active inference models, and the ability to scale models to run multiple agents simultaneously through batching, making it ideal for complex, multi-agent tasks.\n",
    "\n",
    "The T-Maze task we use in this notebook is adapted from [the sophisticated inference paper](https://discovery.ucl.ac.uk/id/eprint/10124606/). This task represents a classic problem in spatial navigation, learning, and decision-making, where an agent (in this case, a rat) must navigate a T-shaped maze. The agent starts at the centre of the T-maze. Within either the left or right arm, there is either a preferred (i.e., rewarding; cheese) stimulus or an aversive (i.e., punishing; shock) stimulus, with their locations initially unknown to the agent. In the bottom arm, an instructional cue provides information about the location of the rewarding stimulus.\n",
    "\n",
    "To solve the maze and locate the reward, the agent must decide whether to commit to one of the potentially rewarding arms or first seek information from the cue to identify the more profitable option before taking action. Cue validity, set at 95% in this simulation, represents the probability that the cue correctly indicates the reward's location. An optimal agent should learn to exploit the cue when it is valid and explore the arms when it is not. \n",
    "\n",
    "In this notebook, we will create the following simulations: \n",
    "1. single agent solving the task with vanilla active inference\n",
    "2. single agent solving the task with sophisticated inference\n",
    "3. multiple agents solving the task with vanilla active inference\n",
    "4. multiple agents solving the task with sophisticated inference"
   ]
  },
  {
   "cell_type": "markdown",
   "metadata": {},
   "source": [
    "### Initial Setup\n",
    "To run this notebook, it is recommended to set up and use a virtual environment. You can refer to [this guide](https://packaging.python.org/en/latest/guides/installing-using-pip-and-virtual-environments/) to learn how to set up a virtual environment.\n",
    "\n",
    "Then, install the current repo, with the `jax-pymdp` package, as a package in editable mode by running the following command in your terminal:\n",
    "```bash\n",
    "pip install -e .\n",
    "```\n",
    "\n",
    "You also need to install [JAX](https://jax.readthedocs.io/en/latest/installation.html) to run this notebook."
   ]
  },
  {
   "cell_type": "code",
   "execution_count": 10,
   "metadata": {},
   "outputs": [
    {
     "name": "stdout",
     "output_type": "stream",
     "text": [
      "The autoreload extension is already loaded. To reload it, use:\n",
      "  %reload_ext autoreload\n"
     ]
    }
   ],
   "source": [
    "# a way to edit and run code and see the effects in the notebook without having to restart the kernel\n",
    "%load_ext autoreload\n",
    "%autoreload 2\n",
    "\n",
    "# importing necessary libraries\n",
    "import jax.numpy as jnp\n",
    "import matplotlib.pyplot as plt\n",
    "import numpy as np\n",
    "\n",
    "from jax import random as jr\n",
    "from pymdp.envs import TMaze\n",
    "from matplotlib.animation import FuncAnimation, PillowWriter\n",
    "from IPython.display import HTML\n",
    "from pymdp.agent import Agent\n",
    "from pymdp.envs.tmaze import aif_loop"
   ]
  },
  {
   "cell_type": "markdown",
   "metadata": {},
   "source": [
    "### The T-Maze Environment\n",
    "\n",
    "The environment can run multiple instances in parallel by adjusting the `batch_size` parameter.\n",
    "\n",
    "#### States and Observations\n",
    "\n",
    "**State Factors:**\n",
    "1. Location (5 states):\n",
    "    - 0: centre (start location)\n",
    "    - 1: left arm\n",
    "    - 2: right arm\n",
    "    - 3: cue location (bottom arm)\n",
    "    - 4: middle of arms (between left and right arm)\n",
    "2. Reward Location (2 states):\n",
    "    - 0: reward in left arm \n",
    "    - 1: reward in right arm\n",
    "\n",
    "**Observation Modalities:**\n",
    "1. Location (5 observations):\n",
    "    - Matches the location states exactly\n",
    "2. Outcome (3 observations):\n",
    "    - 0: no outcome\n",
    "    - 1: reward (cheese)\n",
    "    - 2: punishment (shock)\n",
    "3. Cue (3 observations):\n",
    "    - 0: no cue\n",
    "    - 1: left arm cued\n",
    "    - 2: right arm cued\n",
    "\n",
    "#### Environment Parameters\n",
    "\n",
    "**Observation Likelihood Model (A):**\n",
    "- A[0]: Location observations (5x5x1 tensor)\n",
    "  - Perfect mapping between true and observed location\n",
    "- A[1]: Outcome observations (3x5x2 tensor)\n",
    "  - In correct arm, the `reward_probability` is set at 100% \n",
    "  - In incorrect arm, the `punishment_probability` is set at 100%\n",
    "  - No outcomes in centre or cue locations\n",
    "- A[2]: Cue observations (3x5x2 tensor)\n",
    "  - Cue indicates reward location only at cue location, with `cue_validity` set at 95%\n",
    "  - No cues visible elsewhere\n",
    "\n",
    "**Transition Model (B):**\n",
    "- B[0]: Location transitions (5x5x4 tensor)\n",
    "  - Agent can move between any locations in one step \n",
    "- B[1]: Reward location (2x2x1 tensor)\n",
    "  - Reward location remains fixed throughout trial\n",
    "\n",
    "**Initial Conditions (D):**\n",
    "- D[0]: Starting location (5x1 tensor)\n",
    "  - Agent always begins in centre location\n",
    "- D[1]: Reward placement (2x1 tensor)\n",
    "  - Default: Equal chance (50/50) of reward in either arm (reward_condition=None)\n",
    "  - Optional: Can fix reward to specific arm, by setting `reward_condition` to 0 (for left arm) or 1 (for right arm)  \n"
   ]
  },
  {
   "cell_type": "code",
   "execution_count": 11,
   "metadata": {},
   "outputs": [],
   "source": [
    "batch_size = 1 # number of environments to run in parallel\n",
    "env = TMaze( # initialising the environment\n",
    "    batch_size=batch_size, \n",
    "    reward_probability=1.0,     # 100% chance of reward in correct arm\n",
    "    punishment_probability=1.0, # 100% chance of punishment in incorrect arm\n",
    "    cue_validity=1.0,          # 95% valid cues\n",
    "    reward_condition=1\n",
    ")"
   ]
  },
  {
   "cell_type": "code",
   "execution_count": 12,
   "metadata": {},
   "outputs": [
    {
     "name": "stdout",
     "output_type": "stream",
     "text": [
      "[[1. 1. 1. 0. 1.]\n",
      " [0. 0. 0. 0. 0.]\n",
      " [0. 0. 0. 1. 0.]]\n",
      "[[1. 0. 0. 0. 0.]]\n",
      "[[0. 1.]]\n"
     ]
    }
   ],
   "source": [
    "# print(env.params[\"A\"][1].shape)\n",
    "# print(env.params[\"A\"][1][0][:,:,1])\n",
    "\n",
    "# print(env.params[\"A\"][2].shape)\n",
    "print(env.params[\"A\"][2][0][:,:,1])\n",
    "\n",
    "# print(env.params[\"B\"][0].shape)\n",
    "# print(env.params[\"B\"][0][0][:,:,4])\n",
    "\n",
    "print(env.params[\"D\"][0])\n",
    "print(env.params[\"D\"][1])\n"
   ]
  },
  {
   "cell_type": "code",
   "execution_count": 13,
   "metadata": {},
   "outputs": [],
   "source": [
    "key = jr.PRNGKey(1) # random key for generating random numbers\n",
    "keys = jr.split(key, 1 + batch_size) # splitting the key into 1 + batch_size keys\n",
    "key = keys[0] # saving the first key for later use\n"
   ]
  },
  {
   "cell_type": "markdown",
   "metadata": {},
   "source": [
    "# Creating the Agent"
   ]
  },
  {
   "cell_type": "markdown",
   "metadata": {},
   "source": [
    "Riddhi's notes: \n",
    "- to try A learning with A[1] - the agent can learn the probability of reward in the correct arm and the probability of punishment in the incorrect arm.\n",
    "- to try A learning with A[2] - the agent can learn the cue validity.\n",
    "- apply_batch?? \n",
    "\n"
   ]
  },
  {
   "cell_type": "code",
   "execution_count": 14,
   "metadata": {},
   "outputs": [],
   "source": [
    "A = [jnp.array(a, dtype=jnp.float32) for a in env.params[\"A\"]]\n",
    "B = [jnp.array(b, dtype=jnp.float32) for b in env.params[\"B\"]]\n",
    "A_dependencies = env.dependencies[\"A\"]\n",
    "B_dependencies = env.dependencies[\"B\"]\n",
    "\n",
    "# create C tensors [location], [reward], [cue] based on A shapes\n",
    "C = [jnp.zeros((batch_size, a.shape[1]), dtype=jnp.float32) for a in A] \n",
    "# set preferences for outcomes only (keeping other preferences at zero)\n",
    "C[1] = C[1].at[:,1].set(2.0)    # prefer reward - note the [:,1]\n",
    "C[1] = C[1].at[:,2].set(-3.0)   # avoid punishment - note the [:,2]\n",
    "# C = [jnp.broadcast_to(c, (batch_size,) + c.shape) for c in C]\n",
    "\n",
    "\n",
    "# create D tensors [location], [reward] based on B shapes\n",
    "D = []\n",
    "# D[0]: location - all zeros except location 0 (centre) because the agent always starts in the centre\n",
    "D_loc = jnp.zeros((batch_size, B[0].shape[1]), dtype=jnp.float32) \n",
    "D_loc = D_loc.at[0,0].set(1.0)  # set centre location to 1.0\n",
    "D.append(D_loc)\n",
    "\n",
    "# D[1]: reward location - uniform distribution\n",
    "D_reward = jnp.ones((batch_size, B[1].shape[1]), dtype=jnp.float32) \n",
    "D_reward = D_reward / jnp.sum(D_reward, axis=1, keepdims=True)  # normalise to get uniform distribution\n",
    "D.append(D_reward)\n",
    "\n",
    "\n",
    "agent = Agent(\n",
    "    A, B, C, D, \n",
    "    None, None, None, \n",
    "    policy_len=6,\n",
    "    A_dependencies=A_dependencies, \n",
    "    B_dependencies=B_dependencies,\n",
    "    apply_batch=False\n",
    ")"
   ]
  },
  {
   "cell_type": "code",
   "execution_count": 15,
   "metadata": {},
   "outputs": [
    {
     "name": "stdout",
     "output_type": "stream",
     "text": [
      "[[1. 0. 0. 0. 0.]]\n",
      "[[0.5 0.5]]\n"
     ]
    }
   ],
   "source": [
    "# print([a.shape for a in A])\n",
    "# print([b.shape for b in B])\n",
    "# print([c.shape for c in C])\n",
    "# print([d.shape for d in D])\n",
    "\n",
    "# print(agent.A_dependencies)\n",
    "# print(agent.B_dependencies)\n",
    "\n",
    "# print(agent.A[0][:,:])\n",
    "# print(agent.A[1][0][:,:,0])\n",
    "# print(agent.A[2][0][:,:,1])\n",
    "\n",
    "\n",
    "# print(agent.B[0][0][:,:,0])\n",
    "# print(agent.B[1][0][:,:,0])\n",
    "\n",
    "# print(agent.C[0])\n",
    "\n",
    "print(agent.D[0])\n",
    "print(agent.D[1])"
   ]
  },
  {
   "cell_type": "code",
   "execution_count": 16,
   "metadata": {},
   "outputs": [],
   "source": [
    "key = jr.PRNGKey(0)\n",
    "T = 10\n",
    "_, info, _ = aif_loop(agent, env, num_timesteps=T, rng_key=key)"
   ]
  },
  {
   "cell_type": "code",
   "execution_count": 20,
   "metadata": {},
   "outputs": [
    {
     "name": "stdout",
     "output_type": "stream",
     "text": [
      "[[[1.]\n",
      "  [0.]\n",
      "  [0.]\n",
      "  [0.]\n",
      "  [0.]\n",
      "  [0.]\n",
      "  [0.]\n",
      "  [0.]\n",
      "  [0.]\n",
      "  [0.]]]\n"
     ]
    }
   ],
   "source": [
    "# print(info[\"action\"][0])\n",
    "print(info[\"observation\"][2])\n",
    "# print(info[\"qs\"][1])\n",
    "# print(info[\"qpi\"][0].shape)"
   ]
  },
  {
   "cell_type": "code",
   "execution_count": 18,
   "metadata": {},
   "outputs": [
    {
     "data": {
      "image/png": "[encoded data removed]",
      "text/plain": [
       "<Figure size 500x500 with 1 Axes>"
      ]
     },
     "metadata": {},
     "output_type": "display_data"
    }
   ],
   "source": [
    "frames = []\n",
    "\n",
    "# reset environment for agent to be in start location\n",
    "o, env = env.reset(keys[1:])\n",
    "frames.append(env.render(mode=\"rgb_array\"))\n",
    "\n",
    "# append frame for each action \n",
    "# actions = [[3,0], [0,0], [4,0], [2,0], [4,0], [1,0]] # manual actions - without agent's generative model\n",
    "actions = info[\"action\"][0] # from agent's generative model\n",
    "for action in actions:\n",
    "    o, env = env.step(keys[1:], jnp.array([action] * batch_size))\n",
    "    frames.append(env.render(mode=\"rgb_array\"))\n",
    "\n",
    "# convert to numpy array\n",
    "frames = np.array(frames)\n",
    "\n",
    "# creating figure for animation\n",
    "fig, ax = plt.subplots(figsize=(5, 5))\n",
    "ax.axis('off')\n",
    "\n",
    "def animate(frame):\n",
    "    ax.clear()\n",
    "    ax.axis('off')\n",
    "    ax.imshow(frames[frame])\n",
    "    return ax,\n",
    "\n",
    "# displaying animation\n",
    "anim = FuncAnimation(fig, animate, frames=len(frames), interval=1000)\n",
    "HTML(anim.to_jshtml())\n",
    "\n",
    "# save as gif\n",
    "anim.save('tmaze.gif', writer=PillowWriter(fps=1))"
   ]
  },
  {
   "cell_type": "code",
   "execution_count": null,
   "metadata": {},
   "outputs": [],
   "source": []
  }
 ],
 "metadata": {
  "kernelspec": {
   "display_name": ".venv",
   "language": "python",
   "name": "python3"
  },
  "language_info": {
   "codemirror_mode": {
    "name": "ipython",
    "version": 3
   },
   "file_extension": ".py",
   "mimetype": "text/x-python",
   "name": "python",
   "nbconvert_exporter": "python",
   "pygments_lexer": "ipython3",
   "version": "3.12.5"
  }
 },
 "nbformat": 4,
 "nbformat_minor": 2
}
